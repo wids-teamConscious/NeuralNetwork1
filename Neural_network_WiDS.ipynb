{
  "nbformat": 4,
  "nbformat_minor": 0,
  "metadata": {
    "colab": {
      "provenance": [],
      "collapsed_sections": [
        "OO2fSn7-njsG",
        "VjXZCyrUngWc",
        "ddIcW8Hgn0_C",
        "--pFYkTeblGB",
        "JxwU6E9jg44X"
      ]
    },
    "kernelspec": {
      "name": "python3",
      "display_name": "Python 3"
    },
    "language_info": {
      "name": "python"
    }
  },
  "cells": [
    {
      "cell_type": "markdown",
      "source": [
        "### Import Libaries"
      ],
      "metadata": {
        "id": "OO2fSn7-njsG"
      }
    },
    {
      "cell_type": "code",
      "source": [
        "import pandas as pd\n",
        "import numpy as np\n",
        "import matplotlib.pyplot as plt\n",
        "import seaborn as sns\n",
        "import warnings\n",
        "from sklearn.model_selection import train_test_split\n",
        "from sklearn.metrics import accuracy_score, confusion_matrix, precision_score, recall_score, ConfusionMatrixDisplay, f1_score\n",
        "warnings.filterwarnings('ignore')\n",
        "\n",
        "from google.colab import drive\n",
        "drive.mount('/content/drive')"
      ],
      "metadata": {
        "id": "yVeIc1RXnm0i",
        "colab": {
          "base_uri": "https://localhost:8080/"
        },
        "outputId": "c6088d95-220c-4a87-c854-b526bef13baf"
      },
      "execution_count": 1,
      "outputs": [
        {
          "output_type": "stream",
          "name": "stdout",
          "text": [
            "Mounted at /content/drive\n"
          ]
        }
      ]
    },
    {
      "cell_type": "markdown",
      "source": [
        "### Import Data"
      ],
      "metadata": {
        "id": "VjXZCyrUngWc"
      }
    },
    {
      "cell_type": "code",
      "execution_count": 2,
      "metadata": {
        "id": "rfQjCQBqncc6"
      },
      "outputs": [],
      "source": [
        "df_categorical = pd.read_excel('/content/drive/MyDrive/WiDS/TRAIN_CATEGORICAL_METADATA.xlsx')\n",
        "df_functional = pd.read_csv('/content/drive/MyDrive/WiDS/TRAIN_FUNCTIONAL_CONNECTOME_MATRICES.csv')\n",
        "df_quantitative = pd.read_excel('/content/drive/MyDrive/WiDS/TRAIN_QUANTITATIVE_METADATA.xlsx')\n",
        "df_target = pd.read_excel('/content/drive/MyDrive/WiDS/TRAINING_SOLUTIONS.xlsx')"
      ]
    },
    {
      "cell_type": "markdown",
      "source": [
        "### Data Exploration"
      ],
      "metadata": {
        "id": "ddIcW8Hgn0_C"
      }
    },
    {
      "cell_type": "code",
      "source": [
        "print('target shape: ', df_target.shape)\n",
        "print('target head: \\n', df_target.head())\n",
        "print('target columns: \\n', df_target.columns)"
      ],
      "metadata": {
        "colab": {
          "base_uri": "https://localhost:8080/"
        },
        "id": "y73jAJVFn32E",
        "outputId": "4cf3517e-8f52-472b-d425-13dc3ae37be8"
      },
      "execution_count": null,
      "outputs": [
        {
          "output_type": "stream",
          "name": "stdout",
          "text": [
            "target shape:  (1213, 3)\n",
            "target head: \n",
            "   participant_id  ADHD_Outcome  Sex_F\n",
            "0   UmrK0vMLopoR             1      1\n",
            "1   CPaeQkhcjg7d             1      0\n",
            "2   Nb4EetVPm3gs             1      0\n",
            "3   p4vPhVu91o4b             1      1\n",
            "4   M09PXs7arQ5E             1      1\n",
            "target columns: \n",
            " Index(['participant_id', 'ADHD_Outcome', 'Sex_F'], dtype='object')\n"
          ]
        }
      ]
    },
    {
      "cell_type": "code",
      "source": [
        "print('categorcial shape: ', df_categorical.shape)\n",
        "print('categorical head: \\n', df_categorical.head())\n",
        "print('categorical columns: \\n', df_categorical.columns)"
      ],
      "metadata": {
        "colab": {
          "base_uri": "https://localhost:8080/"
        },
        "id": "_F-n-vpwn7p6",
        "outputId": "7e04a7fc-7597-4aed-f0d1-9c2a5df91dd2"
      },
      "execution_count": null,
      "outputs": [
        {
          "output_type": "stream",
          "name": "stdout",
          "text": [
            "categorcial shape:  (1213, 10)\n",
            "categorical head: \n",
            "   participant_id  Basic_Demos_Enroll_Year  Basic_Demos_Study_Site  \\\n",
            "0   UmrK0vMLopoR                     2016                       1   \n",
            "1   CPaeQkhcjg7d                     2019                       3   \n",
            "2   Nb4EetVPm3gs                     2016                       1   \n",
            "3   p4vPhVu91o4b                     2018                       3   \n",
            "4   M09PXs7arQ5E                     2019                       3   \n",
            "\n",
            "   PreInt_Demos_Fam_Child_Ethnicity  PreInt_Demos_Fam_Child_Race  \\\n",
            "0                               0.0                            0   \n",
            "1                               1.0                            2   \n",
            "2                               1.0                            8   \n",
            "3                               0.0                            8   \n",
            "4                               0.0                            1   \n",
            "\n",
            "   MRI_Track_Scan_Location  Barratt_Barratt_P1_Edu  Barratt_Barratt_P1_Occ  \\\n",
            "0                        1                      21                      45   \n",
            "1                        3                      15                      15   \n",
            "2                        1                      18                      40   \n",
            "3                        3                      15                      30   \n",
            "4                        3                      15                      20   \n",
            "\n",
            "   Barratt_Barratt_P2_Edu  Barratt_Barratt_P2_Occ  \n",
            "0                      21                      45  \n",
            "1                       0                       0  \n",
            "2                       0                       0  \n",
            "3                      18                       0  \n",
            "4                       0                       0  \n",
            "categorical columns: \n",
            " Index(['participant_id', 'Basic_Demos_Enroll_Year', 'Basic_Demos_Study_Site',\n",
            "       'PreInt_Demos_Fam_Child_Ethnicity', 'PreInt_Demos_Fam_Child_Race',\n",
            "       'MRI_Track_Scan_Location', 'Barratt_Barratt_P1_Edu',\n",
            "       'Barratt_Barratt_P1_Occ', 'Barratt_Barratt_P2_Edu',\n",
            "       'Barratt_Barratt_P2_Occ'],\n",
            "      dtype='object')\n"
          ]
        }
      ]
    },
    {
      "cell_type": "code",
      "source": [
        "print('functional shape: ', df_functional.shape)\n",
        "print('functional head: \\n', df_functional.head())\n",
        "print('functional columns: \\n', df_functional.columns)"
      ],
      "metadata": {
        "colab": {
          "base_uri": "https://localhost:8080/"
        },
        "id": "zlSZ4WR1n9c-",
        "outputId": "eb2f41b9-9af0-495a-8934-611a8f74a687"
      },
      "execution_count": null,
      "outputs": [
        {
          "output_type": "stream",
          "name": "stdout",
          "text": [
            "functional shape:  (1213, 19901)\n",
            "functional head: \n",
            "   participant_id  0throw_1thcolumn  0throw_2thcolumn  0throw_3thcolumn  \\\n",
            "0   70z8Q2xdTXM3          0.093473          0.146902          0.067893   \n",
            "1   WHWymJu6zNZi          0.029580          0.179323          0.112933   \n",
            "2   4PAQp1M6EyAo         -0.051580          0.139734          0.068295   \n",
            "3   obEacy4Of68I          0.016273          0.204702          0.115980   \n",
            "4   s7WzzDcmDOhF          0.065771          0.098714          0.097604   \n",
            "\n",
            "   0throw_4thcolumn  0throw_5thcolumn  0throw_6thcolumn  0throw_7thcolumn  \\\n",
            "0          0.015141          0.070221          0.063997          0.055382   \n",
            "1          0.038291          0.104899          0.064250          0.008488   \n",
            "2          0.046991          0.111085          0.026978          0.151377   \n",
            "3          0.043103          0.056431          0.057615          0.055773   \n",
            "4          0.112988          0.071139          0.085607          0.019392   \n",
            "\n",
            "   0throw_8thcolumn  0throw_9thcolumn  ...  195throw_196thcolumn  \\\n",
            "0         -0.035335          0.068583  ...              0.003404   \n",
            "1          0.077505         -0.004750  ...             -0.008409   \n",
            "2          0.021198          0.083721  ...              0.053245   \n",
            "3          0.075030          0.001033  ...             -0.023918   \n",
            "4         -0.036403         -0.020375  ...              0.066439   \n",
            "\n",
            "   195throw_197thcolumn  195throw_198thcolumn  195throw_199thcolumn  \\\n",
            "0             -0.010359             -0.050968             -0.014365   \n",
            "1             -0.008479              0.020891              0.017754   \n",
            "2             -0.028003              0.028773              0.024556   \n",
            "3             -0.005356              0.018607              0.016193   \n",
            "4             -0.076680             -0.047530             -0.031443   \n",
            "\n",
            "   196throw_197thcolumn  196throw_198thcolumn  196throw_199thcolumn  \\\n",
            "0              0.128066              0.112646             -0.058980   \n",
            "1              0.094040              0.035141              0.032537   \n",
            "2              0.166343              0.058925              0.035485   \n",
            "3              0.072955              0.130135              0.056120   \n",
            "4              0.221213              0.007343              0.005763   \n",
            "\n",
            "   197throw_198thcolumn  197throw_199thcolumn  198throw_199thcolumn  \n",
            "0              0.028228              0.133582              0.143372  \n",
            "1              0.075007              0.115350              0.138200  \n",
            "2              0.063661              0.042862              0.162162  \n",
            "3              0.084784              0.114148              0.190584  \n",
            "4              0.083820              0.079582              0.067269  \n",
            "\n",
            "[5 rows x 19901 columns]\n",
            "functional columns: \n",
            " Index(['participant_id', '0throw_1thcolumn', '0throw_2thcolumn',\n",
            "       '0throw_3thcolumn', '0throw_4thcolumn', '0throw_5thcolumn',\n",
            "       '0throw_6thcolumn', '0throw_7thcolumn', '0throw_8thcolumn',\n",
            "       '0throw_9thcolumn',\n",
            "       ...\n",
            "       '195throw_196thcolumn', '195throw_197thcolumn', '195throw_198thcolumn',\n",
            "       '195throw_199thcolumn', '196throw_197thcolumn', '196throw_198thcolumn',\n",
            "       '196throw_199thcolumn', '197throw_198thcolumn', '197throw_199thcolumn',\n",
            "       '198throw_199thcolumn'],\n",
            "      dtype='object', length=19901)\n"
          ]
        }
      ]
    },
    {
      "cell_type": "code",
      "source": [
        "print('quantitative shape: ', df_quantitative.shape)\n",
        "print('quantitative head: \\n', df_quantitative.head())\n",
        "print('quantitative columns: \\n', df_quantitative.columns)"
      ],
      "metadata": {
        "colab": {
          "base_uri": "https://localhost:8080/"
        },
        "collapsed": true,
        "id": "il0CkCuVoDA4",
        "outputId": "c187daf9-fd28-4448-b472-a061d0a712a9"
      },
      "execution_count": null,
      "outputs": [
        {
          "output_type": "stream",
          "name": "stdout",
          "text": [
            "quantitative shape:  (1213, 19)\n",
            "quantitative head: \n",
            "   participant_id  EHQ_EHQ_Total  ColorVision_CV_Score  APQ_P_APQ_P_CP  \\\n",
            "0   UmrK0vMLopoR          40.00                    13               3   \n",
            "1   CPaeQkhcjg7d         -94.47                    14               3   \n",
            "2   Nb4EetVPm3gs         -46.67                    14               4   \n",
            "3   p4vPhVu91o4b         -26.68                    10               5   \n",
            "4   M09PXs7arQ5E           0.00                    14               5   \n",
            "\n",
            "   APQ_P_APQ_P_ID  APQ_P_APQ_P_INV  APQ_P_APQ_P_OPD  APQ_P_APQ_P_PM  \\\n",
            "0              10               47               13              11   \n",
            "1              13               34               18              23   \n",
            "2              10               35               16              10   \n",
            "3              12               39               19              16   \n",
            "4              15               40               20              24   \n",
            "\n",
            "   APQ_P_APQ_P_PP  SDQ_SDQ_Conduct_Problems  SDQ_SDQ_Difficulties_Total  \\\n",
            "0              28                         0                           6   \n",
            "1              30                         0                          18   \n",
            "2              29                         1                          14   \n",
            "3              28                         6                          24   \n",
            "4              28                         1                          18   \n",
            "\n",
            "   SDQ_SDQ_Emotional_Problems  SDQ_SDQ_Externalizing  \\\n",
            "0                           1                      5   \n",
            "1                           6                      8   \n",
            "2                           2                      8   \n",
            "3                           4                     16   \n",
            "4                           4                     11   \n",
            "\n",
            "   SDQ_SDQ_Generating_Impact  SDQ_SDQ_Hyperactivity  SDQ_SDQ_Internalizing  \\\n",
            "0                          0                      5                      1   \n",
            "1                          7                      8                     10   \n",
            "2                          5                      7                      6   \n",
            "3                          9                     10                      8   \n",
            "4                          4                     10                      7   \n",
            "\n",
            "   SDQ_SDQ_Peer_Problems  SDQ_SDQ_Prosocial  MRI_Track_Age_at_Scan  \n",
            "0                      0                 10                    NaN  \n",
            "1                      4                  5                    NaN  \n",
            "2                      4                  9               8.239904  \n",
            "3                      4                  6                    NaN  \n",
            "4                      3                  9               8.940679  \n",
            "quantitative columns: \n",
            " Index(['participant_id', 'EHQ_EHQ_Total', 'ColorVision_CV_Score',\n",
            "       'APQ_P_APQ_P_CP', 'APQ_P_APQ_P_ID', 'APQ_P_APQ_P_INV',\n",
            "       'APQ_P_APQ_P_OPD', 'APQ_P_APQ_P_PM', 'APQ_P_APQ_P_PP',\n",
            "       'SDQ_SDQ_Conduct_Problems', 'SDQ_SDQ_Difficulties_Total',\n",
            "       'SDQ_SDQ_Emotional_Problems', 'SDQ_SDQ_Externalizing',\n",
            "       'SDQ_SDQ_Generating_Impact', 'SDQ_SDQ_Hyperactivity',\n",
            "       'SDQ_SDQ_Internalizing', 'SDQ_SDQ_Peer_Problems', 'SDQ_SDQ_Prosocial',\n",
            "       'MRI_Track_Age_at_Scan'],\n",
            "      dtype='object')\n"
          ]
        }
      ]
    },
    {
      "cell_type": "markdown",
      "source": [
        "Checking null value in datasets"
      ],
      "metadata": {
        "id": "DIT1miuMor2o"
      }
    },
    {
      "cell_type": "code",
      "source": [
        "print(\"na in quantitative: \", df_quantitative.isna().sum())"
      ],
      "metadata": {
        "colab": {
          "base_uri": "https://localhost:8080/"
        },
        "collapsed": true,
        "id": "oI1RyWvIoE2Q",
        "outputId": "10e84bdd-ea15-4304-9caf-08b1035a7730"
      },
      "execution_count": null,
      "outputs": [
        {
          "output_type": "stream",
          "name": "stdout",
          "text": [
            "na in quantitative:  participant_id                  0\n",
            "EHQ_EHQ_Total                   0\n",
            "ColorVision_CV_Score            0\n",
            "APQ_P_APQ_P_CP                  0\n",
            "APQ_P_APQ_P_ID                  0\n",
            "APQ_P_APQ_P_INV                 0\n",
            "APQ_P_APQ_P_OPD                 0\n",
            "APQ_P_APQ_P_PM                  0\n",
            "APQ_P_APQ_P_PP                  0\n",
            "SDQ_SDQ_Conduct_Problems        0\n",
            "SDQ_SDQ_Difficulties_Total      0\n",
            "SDQ_SDQ_Emotional_Problems      0\n",
            "SDQ_SDQ_Externalizing           0\n",
            "SDQ_SDQ_Generating_Impact       0\n",
            "SDQ_SDQ_Hyperactivity           0\n",
            "SDQ_SDQ_Internalizing           0\n",
            "SDQ_SDQ_Peer_Problems           0\n",
            "SDQ_SDQ_Prosocial               0\n",
            "MRI_Track_Age_at_Scan         360\n",
            "dtype: int64\n"
          ]
        }
      ]
    },
    {
      "cell_type": "code",
      "source": [
        "print(\"na in target: \", df_target.isna().sum())"
      ],
      "metadata": {
        "colab": {
          "base_uri": "https://localhost:8080/"
        },
        "id": "egP1Ek43oLkG",
        "outputId": "1e7c307b-3555-4fe1-d614-8a1c9358e1b9",
        "collapsed": true
      },
      "execution_count": null,
      "outputs": [
        {
          "output_type": "stream",
          "name": "stdout",
          "text": [
            "na in target:  participant_id    0\n",
            "ADHD_Outcome      0\n",
            "Sex_F             0\n",
            "dtype: int64\n"
          ]
        }
      ]
    },
    {
      "cell_type": "code",
      "source": [
        "print(\"na in categorical: \", df_categorical.isna().sum())"
      ],
      "metadata": {
        "colab": {
          "base_uri": "https://localhost:8080/"
        },
        "id": "-jZGy8NEoRaL",
        "outputId": "a00b2cbf-efee-43d6-e3a8-eb2d43eafb91",
        "collapsed": true
      },
      "execution_count": null,
      "outputs": [
        {
          "output_type": "stream",
          "name": "stdout",
          "text": [
            "na in categorical:  participant_id                       0\n",
            "Basic_Demos_Enroll_Year              0\n",
            "Basic_Demos_Study_Site               0\n",
            "PreInt_Demos_Fam_Child_Ethnicity    11\n",
            "PreInt_Demos_Fam_Child_Race          0\n",
            "MRI_Track_Scan_Location              0\n",
            "Barratt_Barratt_P1_Edu               0\n",
            "Barratt_Barratt_P1_Occ               0\n",
            "Barratt_Barratt_P2_Edu               0\n",
            "Barratt_Barratt_P2_Occ               0\n",
            "dtype: int64\n"
          ]
        }
      ]
    },
    {
      "cell_type": "code",
      "source": [
        "na_list = df_functional.isna().sum()\n",
        "print(\"na in functional: \", na_list)\n",
        "if na_list.any():\n",
        "  print(\"there are null values in functional\")\n",
        "else:\n",
        "  print(\"there are no null values in functional\")"
      ],
      "metadata": {
        "colab": {
          "base_uri": "https://localhost:8080/"
        },
        "id": "j4VpKw3YqOhC",
        "outputId": "7b2db1d9-805d-430a-b0cb-e673551a889c",
        "collapsed": true
      },
      "execution_count": null,
      "outputs": [
        {
          "output_type": "stream",
          "name": "stdout",
          "text": [
            "na in functional:  participant_id          0\n",
            "0throw_1thcolumn        0\n",
            "0throw_2thcolumn        0\n",
            "0throw_3thcolumn        0\n",
            "0throw_4thcolumn        0\n",
            "                       ..\n",
            "196throw_198thcolumn    0\n",
            "196throw_199thcolumn    0\n",
            "197throw_198thcolumn    0\n",
            "197throw_199thcolumn    0\n",
            "198throw_199thcolumn    0\n",
            "Length: 19901, dtype: int64\n",
            "there are no null values in functional\n"
          ]
        }
      ]
    },
    {
      "cell_type": "markdown",
      "source": [
        "### Feature Engineering"
      ],
      "metadata": {
        "id": "GQ5w5CUpo6Jj"
      }
    },
    {
      "cell_type": "code",
      "source": [
        "# drop unnecessary columns in categoricals\n",
        "print(df_categorical.columns)\n",
        "columns = {'Basic_Demos_Enroll_Year', 'Basic_Demos_Study_Site','MRI_Track_Scan_Location','Barratt_Barratt_P1_Edu','Barratt_Barratt_P1_Occ', 'Barratt_Barratt_P2_Edu','Barratt_Barratt_P2_Occ'}\n",
        "df_categorical.drop(columns, axis=1, inplace=True)\n",
        "# new df_categorical with less columns\n",
        "print(df_categorical.columns)\n",
        "print(df_categorical.head())\n",
        "# check null again\n",
        "print(\"na in categorical: \", df_categorical.isna().sum())"
      ],
      "metadata": {
        "colab": {
          "base_uri": "https://localhost:8080/"
        },
        "collapsed": true,
        "id": "HTN1DAvDo8S4",
        "outputId": "f2391e1b-cc5c-400a-c372-1ca229540e01"
      },
      "execution_count": 3,
      "outputs": [
        {
          "output_type": "stream",
          "name": "stdout",
          "text": [
            "Index(['participant_id', 'Basic_Demos_Enroll_Year', 'Basic_Demos_Study_Site',\n",
            "       'PreInt_Demos_Fam_Child_Ethnicity', 'PreInt_Demos_Fam_Child_Race',\n",
            "       'MRI_Track_Scan_Location', 'Barratt_Barratt_P1_Edu',\n",
            "       'Barratt_Barratt_P1_Occ', 'Barratt_Barratt_P2_Edu',\n",
            "       'Barratt_Barratt_P2_Occ'],\n",
            "      dtype='object')\n",
            "Index(['participant_id', 'PreInt_Demos_Fam_Child_Ethnicity',\n",
            "       'PreInt_Demos_Fam_Child_Race'],\n",
            "      dtype='object')\n",
            "  participant_id  PreInt_Demos_Fam_Child_Ethnicity  \\\n",
            "0   UmrK0vMLopoR                               0.0   \n",
            "1   CPaeQkhcjg7d                               1.0   \n",
            "2   Nb4EetVPm3gs                               1.0   \n",
            "3   p4vPhVu91o4b                               0.0   \n",
            "4   M09PXs7arQ5E                               0.0   \n",
            "\n",
            "   PreInt_Demos_Fam_Child_Race  \n",
            "0                            0  \n",
            "1                            2  \n",
            "2                            8  \n",
            "3                            8  \n",
            "4                            1  \n",
            "na in categorical:  participant_id                       0\n",
            "PreInt_Demos_Fam_Child_Ethnicity    11\n",
            "PreInt_Demos_Fam_Child_Race          0\n",
            "dtype: int64\n"
          ]
        }
      ]
    },
    {
      "cell_type": "code",
      "source": [
        "# handle null values. There are 360 NA MRI_Track_Age_at_Scan in quantitative, and 11 NA PreInt_Demos_Fam_Child_Ethnicity in categorical\n",
        "print(df_quantitative['MRI_Track_Age_at_Scan'])\n",
        "unique_MRI_age = df_quantitative['MRI_Track_Age_at_Scan'].unique()\n",
        "print(\"num of rows: \", df_quantitative.shape[0])\n",
        "print(\"unique MRI age:\", unique_MRI_age.size)\n",
        "\n",
        "non_na_mri_age = df_quantitative['MRI_Track_Age_at_Scan'].dropna()\n",
        "\n",
        "plt.hist(non_na_mri_age, bins=20, edgecolor='black')\n",
        "plt.xlabel('MRI Age at Scan')\n",
        "plt.ylabel('Frequency')\n",
        "plt.title('Distribution of MRI Age at Scan')\n",
        "plt.show()"
      ],
      "metadata": {
        "colab": {
          "base_uri": "https://localhost:8080/",
          "height": 715
        },
        "collapsed": true,
        "id": "p4EuVJ9VpoC1",
        "outputId": "92c0de75-8232-4e99-f73f-3401638cf6c4"
      },
      "execution_count": 4,
      "outputs": [
        {
          "output_type": "stream",
          "name": "stdout",
          "text": [
            "0             NaN\n",
            "1             NaN\n",
            "2        8.239904\n",
            "3             NaN\n",
            "4        8.940679\n",
            "          ...    \n",
            "1208    10.697923\n",
            "1209    13.964750\n",
            "1210          NaN\n",
            "1211    12.089094\n",
            "1212    12.595710\n",
            "Name: MRI_Track_Age_at_Scan, Length: 1213, dtype: float64\n",
            "num of rows:  1213\n",
            "unique MRI age: 839\n"
          ]
        },
        {
          "output_type": "display_data",
          "data": {
            "text/plain": [
              "<Figure size 640x480 with 1 Axes>"
            ],
            "image/png": "[encoded data removed]"
          },
          "metadata": {}
        }
      ]
    },
    {
      "cell_type": "code",
      "source": [
        "#finding median and mean of MRI age since the age are skewed to the right.\n",
        "print(\"median: \", np.median(non_na_mri_age))\n",
        "print(\"mean: \", np.mean(non_na_mri_age))"
      ],
      "metadata": {
        "colab": {
          "base_uri": "https://localhost:8080/"
        },
        "id": "Zb-iSvL7sNRZ",
        "outputId": "e503f0f5-cf26-447d-ff98-02c7bff45d64",
        "collapsed": true
      },
      "execution_count": 5,
      "outputs": [
        {
          "output_type": "stream",
          "name": "stdout",
          "text": [
            "median:  10.739219\n",
            "mean:  11.245678424384526\n"
          ]
        }
      ]
    },
    {
      "cell_type": "code",
      "source": [
        "#using median since the available MRI age plot is skewed to the right\n",
        "df_quantitative['MRI_Track_Age_at_Scan'].fillna(np.median(non_na_mri_age), inplace=True)\n",
        "print(df_quantitative.isna().sum())"
      ],
      "metadata": {
        "colab": {
          "base_uri": "https://localhost:8080/"
        },
        "collapsed": true,
        "id": "BJnOfE3Is7qw",
        "outputId": "62dc6eb1-5424-4e13-81d7-14c72c304dcb"
      },
      "execution_count": 6,
      "outputs": [
        {
          "output_type": "stream",
          "name": "stdout",
          "text": [
            "participant_id                0\n",
            "EHQ_EHQ_Total                 0\n",
            "ColorVision_CV_Score          0\n",
            "APQ_P_APQ_P_CP                0\n",
            "APQ_P_APQ_P_ID                0\n",
            "APQ_P_APQ_P_INV               0\n",
            "APQ_P_APQ_P_OPD               0\n",
            "APQ_P_APQ_P_PM                0\n",
            "APQ_P_APQ_P_PP                0\n",
            "SDQ_SDQ_Conduct_Problems      0\n",
            "SDQ_SDQ_Difficulties_Total    0\n",
            "SDQ_SDQ_Emotional_Problems    0\n",
            "SDQ_SDQ_Externalizing         0\n",
            "SDQ_SDQ_Generating_Impact     0\n",
            "SDQ_SDQ_Hyperactivity         0\n",
            "SDQ_SDQ_Internalizing         0\n",
            "SDQ_SDQ_Peer_Problems         0\n",
            "SDQ_SDQ_Prosocial             0\n",
            "MRI_Track_Age_at_Scan         0\n",
            "dtype: int64\n"
          ]
        }
      ]
    },
    {
      "cell_type": "code",
      "source": [
        "# handle 11 NA PreInt_Demos_Fam_Child_Ethnicity in categorical\n",
        "child_ethnicity = df_categorical['PreInt_Demos_Fam_Child_Ethnicity'].dropna()\n",
        "child_ethnicity_unique = child_ethnicity.unique()\n",
        "print(child_ethnicity_unique)\n",
        "# check distribution\n",
        "plt.hist(child_ethnicity, bins=20, edgecolor='black')\n",
        "plt.xlabel('Child Ethnicity')\n",
        "plt.ylabel('Frequency')\n",
        "plt.title('Distribution of Child Ethnicity')\n",
        "plt.show()"
      ],
      "metadata": {
        "colab": {
          "base_uri": "https://localhost:8080/",
          "height": 489
        },
        "id": "8qdQ8IuOuY7e",
        "outputId": "392259d7-cdcc-4f92-feee-31c82f82ab75",
        "collapsed": true
      },
      "execution_count": 7,
      "outputs": [
        {
          "output_type": "stream",
          "name": "stdout",
          "text": [
            "[0. 1. 3. 2.]\n"
          ]
        },
        {
          "output_type": "display_data",
          "data": {
            "text/plain": [
              "<Figure size 640x480 with 1 Axes>"
            ],
            "image/png": "[encoded data removed]"
          },
          "metadata": {}
        }
      ]
    },
    {
      "cell_type": "markdown",
      "source": [
        "0= Not Hispanic or Latino \\\\\n",
        "1= Hispanic or Latino \\\\\n",
        "2= Decline to specify \\\\\n",
        "3= Unknown \\\\"
      ],
      "metadata": {
        "id": "amZ_vz7OvRAx"
      }
    },
    {
      "cell_type": "code",
      "source": [
        "# decline to specify and unknown is the same thing, so merge the 2 column together\n",
        "df_categorical['PreInt_Demos_Fam_Child_Ethnicity'].replace(2, 3, inplace=True)"
      ],
      "metadata": {
        "id": "-3IOJwTPvjMT"
      },
      "execution_count": 8,
      "outputs": []
    },
    {
      "cell_type": "code",
      "source": [
        "# since null value means not specifified. Replace all null with not specified.\n",
        "df_categorical['PreInt_Demos_Fam_Child_Ethnicity'].fillna(3, inplace=True)\n",
        "# check null value again\n",
        "print(df_categorical.isna().sum())"
      ],
      "metadata": {
        "colab": {
          "base_uri": "https://localhost:8080/"
        },
        "id": "wMFYoEwFv9I1",
        "outputId": "7de1e2e9-6c2e-4f5b-9001-fc2482951775"
      },
      "execution_count": 9,
      "outputs": [
        {
          "output_type": "stream",
          "name": "stdout",
          "text": [
            "participant_id                      0\n",
            "PreInt_Demos_Fam_Child_Ethnicity    0\n",
            "PreInt_Demos_Fam_Child_Race         0\n",
            "dtype: int64\n"
          ]
        }
      ]
    },
    {
      "cell_type": "code",
      "source": [
        "# merging the datasets (categorical, quantitative, functional)\n",
        "\n",
        "print(\"categorical columns\", df_categorical.columns)\n",
        "print(\"quantitative columns\", df_quantitative.columns)\n",
        "print(\"functional columns\", df_functional.columns)"
      ],
      "metadata": {
        "colab": {
          "base_uri": "https://localhost:8080/"
        },
        "collapsed": true,
        "id": "yrgcXjBiw3WL",
        "outputId": "6d1f0b4a-62b0-4173-c385-081de1b80f88"
      },
      "execution_count": 10,
      "outputs": [
        {
          "output_type": "stream",
          "name": "stdout",
          "text": [
            "categorical columns Index(['participant_id', 'PreInt_Demos_Fam_Child_Ethnicity',\n",
            "       'PreInt_Demos_Fam_Child_Race'],\n",
            "      dtype='object')\n",
            "quantitative columns Index(['participant_id', 'EHQ_EHQ_Total', 'ColorVision_CV_Score',\n",
            "       'APQ_P_APQ_P_CP', 'APQ_P_APQ_P_ID', 'APQ_P_APQ_P_INV',\n",
            "       'APQ_P_APQ_P_OPD', 'APQ_P_APQ_P_PM', 'APQ_P_APQ_P_PP',\n",
            "       'SDQ_SDQ_Conduct_Problems', 'SDQ_SDQ_Difficulties_Total',\n",
            "       'SDQ_SDQ_Emotional_Problems', 'SDQ_SDQ_Externalizing',\n",
            "       'SDQ_SDQ_Generating_Impact', 'SDQ_SDQ_Hyperactivity',\n",
            "       'SDQ_SDQ_Internalizing', 'SDQ_SDQ_Peer_Problems', 'SDQ_SDQ_Prosocial',\n",
            "       'MRI_Track_Age_at_Scan'],\n",
            "      dtype='object')\n",
            "functional columns Index(['participant_id', '0throw_1thcolumn', '0throw_2thcolumn',\n",
            "       '0throw_3thcolumn', '0throw_4thcolumn', '0throw_5thcolumn',\n",
            "       '0throw_6thcolumn', '0throw_7thcolumn', '0throw_8thcolumn',\n",
            "       '0throw_9thcolumn',\n",
            "       ...\n",
            "       '195throw_196thcolumn', '195throw_197thcolumn', '195throw_198thcolumn',\n",
            "       '195throw_199thcolumn', '196throw_197thcolumn', '196throw_198thcolumn',\n",
            "       '196throw_199thcolumn', '197throw_198thcolumn', '197throw_199thcolumn',\n",
            "       '198throw_199thcolumn'],\n",
            "      dtype='object', length=19901)\n"
          ]
        }
      ]
    },
    {
      "cell_type": "code",
      "source": [
        "# check if all the partiicpant ids are the same\n",
        "\n",
        "#sort all the participant_id in each dataset\n",
        "df_categorical['participant_id'] = df_categorical['participant_id'].sort_values()\n",
        "df_quantitative['participant_id'] = df_quantitative['participant_id'].sort_values()\n",
        "df_functional['participant_id'] = df_functional['participant_id'].sort_values()"
      ],
      "metadata": {
        "id": "fy9AUAjDyJxv"
      },
      "execution_count": 11,
      "outputs": []
    },
    {
      "cell_type": "code",
      "source": [
        "print(df_categorical['participant_id'].equals(df_quantitative['participant_id']))\n",
        "df_functional['participant_id_in_categorical'] = df_functional['participant_id'].isin(df_categorical['participant_id'])\n",
        "if not df_functional['participant_id_in_categorical'].all():\n",
        "    print(\"There are participant_id values in functional that are not in categorical.\")\n",
        "else:\n",
        "    print(\"There are no participant_id values in functional that are not in categorical.\")"
      ],
      "metadata": {
        "colab": {
          "base_uri": "https://localhost:8080/"
        },
        "id": "GKx-Lqfqya4D",
        "outputId": "584437a7-f288-423b-98a8-0afe4bcac463"
      },
      "execution_count": 12,
      "outputs": [
        {
          "output_type": "stream",
          "name": "stdout",
          "text": [
            "True\n",
            "There are no participant_id values in functional that are not in categorical.\n"
          ]
        }
      ]
    },
    {
      "cell_type": "code",
      "source": [
        "# the participant_id in each datasets align -> ready to merge\n",
        "merged_df = pd.merge(df_quantitative, df_categorical, on='participant_id', how='outer')\n",
        "merged_df = pd.merge(merged_df, df_functional, on='participant_id', how='outer')\n",
        "merged_df = pd.merge(merged_df, df_target, on='participant_id', how='outer')\n",
        "merged_df.head()"
      ],
      "metadata": {
        "colab": {
          "base_uri": "https://localhost:8080/",
          "height": 255
        },
        "id": "IZL4jBv2zTYO",
        "outputId": "8d613dd0-af66-47d5-a66d-a921f54163f9"
      },
      "execution_count": 13,
      "outputs": [
        {
          "output_type": "execute_result",
          "data": {
            "text/plain": [
              "  participant_id  EHQ_EHQ_Total  ColorVision_CV_Score  APQ_P_APQ_P_CP  \\\n",
              "0   00aIpNTbG5uh         100.00                    13               3   \n",
              "1   00fV0OyyoLfw          92.27                    14               3   \n",
              "2   04X1eiS79T4B          86.67                    14               3   \n",
              "3   05ocQutkURd6          93.34                    14               3   \n",
              "4   06YUNBA9ZRLq           0.00                    14               8   \n",
              "\n",
              "   APQ_P_APQ_P_ID  APQ_P_APQ_P_INV  APQ_P_APQ_P_OPD  APQ_P_APQ_P_PM  \\\n",
              "0              15               44               14              20   \n",
              "1              12               35               25              28   \n",
              "2              21               37               18              26   \n",
              "3              11               42               15              20   \n",
              "4              12               35               22              12   \n",
              "\n",
              "   APQ_P_APQ_P_PP  SDQ_SDQ_Conduct_Problems  ...  195throw_199thcolumn  \\\n",
              "0              27                         3  ...              0.032986   \n",
              "1              30                         5  ...             -0.042040   \n",
              "2              28                         3  ...             -0.057094   \n",
              "3              28                         0  ...             -0.029209   \n",
              "4              24                         6  ...             -0.001515   \n",
              "\n",
              "   196throw_197thcolumn  196throw_198thcolumn  196throw_199thcolumn  \\\n",
              "0              0.081980              0.093708              0.021903   \n",
              "1              0.125651              0.127045              0.142448   \n",
              "2              0.084471              0.075582              0.093687   \n",
              "3              0.087122              0.009254              0.114800   \n",
              "4              0.166933              0.005170              0.005126   \n",
              "\n",
              "   197throw_198thcolumn  197throw_199thcolumn  198throw_199thcolumn  \\\n",
              "0              0.029458             -0.016072              0.169368   \n",
              "1              0.051943              0.138729              0.168951   \n",
              "2              0.091592              0.114817              0.157812   \n",
              "3              0.218728              0.090305              0.159943   \n",
              "4              0.126259             -0.038223              0.181322   \n",
              "\n",
              "   participant_id_in_categorical  ADHD_Outcome  Sex_F  \n",
              "0                           True             1      0  \n",
              "1                           True             1      0  \n",
              "2                           True             0      1  \n",
              "3                           True             0      1  \n",
              "4                           True             1      0  \n",
              "\n",
              "[5 rows x 19924 columns]"
            ],
            "text/html": [
              "\n",
              "  <div id=\"df-c5eafb93-b5b9-45f2-b506-cd1e2d4dc1d4\" class=\"colab-df-container\">\n",
              "    <div>\n",
              "<style scoped>\n",
              "    .dataframe tbody tr th:only-of-type {\n",
              "        vertical-align: middle;\n",
              "    }\n",
              "\n",
              "    .dataframe tbody tr th {\n",
              "        vertical-align: top;\n",
              "    }\n",
              "\n",
              "    .dataframe thead th {\n",
              "        text-align: right;\n",
              "    }\n",
              "</style>\n",
              "<table border=\"1\" class=\"dataframe\">\n",
              "  <thead>\n",
              "    <tr style=\"text-align: right;\">\n",
              "      <th></th>\n",
              "      <th>participant_id</th>\n",
              "      <th>EHQ_EHQ_Total</th>\n",
              "      <th>ColorVision_CV_Score</th>\n",
              "      <th>APQ_P_APQ_P_CP</th>\n",
              "      <th>APQ_P_APQ_P_ID</th>\n",
              "      <th>APQ_P_APQ_P_INV</th>\n",
              "      <th>APQ_P_APQ_P_OPD</th>\n",
              "      <th>APQ_P_APQ_P_PM</th>\n",
              "      <th>APQ_P_APQ_P_PP</th>\n",
              "      <th>SDQ_SDQ_Conduct_Problems</th>\n",
              "      <th>...</th>\n",
              "      <th>195throw_199thcolumn</th>\n",
              "      <th>196throw_197thcolumn</th>\n",
              "      <th>196throw_198thcolumn</th>\n",
              "      <th>196throw_199thcolumn</th>\n",
              "      <th>197throw_198thcolumn</th>\n",
              "      <th>197throw_199thcolumn</th>\n",
              "      <th>198throw_199thcolumn</th>\n",
              "      <th>participant_id_in_categorical</th>\n",
              "      <th>ADHD_Outcome</th>\n",
              "      <th>Sex_F</th>\n",
              "    </tr>\n",
              "  </thead>\n",
              "  <tbody>\n",
              "    <tr>\n",
              "      <th>0</th>\n",
              "      <td>00aIpNTbG5uh</td>\n",
              "      <td>100.00</td>\n",
              "      <td>13</td>\n",
              "      <td>3</td>\n",
              "      <td>15</td>\n",
              "      <td>44</td>\n",
              "      <td>14</td>\n",
              "      <td>20</td>\n",
              "      <td>27</td>\n",
              "      <td>3</td>\n",
              "      <td>...</td>\n",
              "      <td>0.032986</td>\n",
              "      <td>0.081980</td>\n",
              "      <td>0.093708</td>\n",
              "      <td>0.021903</td>\n",
              "      <td>0.029458</td>\n",
              "      <td>-0.016072</td>\n",
              "      <td>0.169368</td>\n",
              "      <td>True</td>\n",
              "      <td>1</td>\n",
              "      <td>0</td>\n",
              "    </tr>\n",
              "    <tr>\n",
              "      <th>1</th>\n",
              "      <td>00fV0OyyoLfw</td>\n",
              "      <td>92.27</td>\n",
              "      <td>14</td>\n",
              "      <td>3</td>\n",
              "      <td>12</td>\n",
              "      <td>35</td>\n",
              "      <td>25</td>\n",
              "      <td>28</td>\n",
              "      <td>30</td>\n",
              "      <td>5</td>\n",
              "      <td>...</td>\n",
              "      <td>-0.042040</td>\n",
              "      <td>0.125651</td>\n",
              "      <td>0.127045</td>\n",
              "      <td>0.142448</td>\n",
              "      <td>0.051943</td>\n",
              "      <td>0.138729</td>\n",
              "      <td>0.168951</td>\n",
              "      <td>True</td>\n",
              "      <td>1</td>\n",
              "      <td>0</td>\n",
              "    </tr>\n",
              "    <tr>\n",
              "      <th>2</th>\n",
              "      <td>04X1eiS79T4B</td>\n",
              "      <td>86.67</td>\n",
              "      <td>14</td>\n",
              "      <td>3</td>\n",
              "      <td>21</td>\n",
              "      <td>37</td>\n",
              "      <td>18</td>\n",
              "      <td>26</td>\n",
              "      <td>28</td>\n",
              "      <td>3</td>\n",
              "      <td>...</td>\n",
              "      <td>-0.057094</td>\n",
              "      <td>0.084471</td>\n",
              "      <td>0.075582</td>\n",
              "      <td>0.093687</td>\n",
              "      <td>0.091592</td>\n",
              "      <td>0.114817</td>\n",
              "      <td>0.157812</td>\n",
              "      <td>True</td>\n",
              "      <td>0</td>\n",
              "      <td>1</td>\n",
              "    </tr>\n",
              "    <tr>\n",
              "      <th>3</th>\n",
              "      <td>05ocQutkURd6</td>\n",
              "      <td>93.34</td>\n",
              "      <td>14</td>\n",
              "      <td>3</td>\n",
              "      <td>11</td>\n",
              "      <td>42</td>\n",
              "      <td>15</td>\n",
              "      <td>20</td>\n",
              "      <td>28</td>\n",
              "      <td>0</td>\n",
              "      <td>...</td>\n",
              "      <td>-0.029209</td>\n",
              "      <td>0.087122</td>\n",
              "      <td>0.009254</td>\n",
              "      <td>0.114800</td>\n",
              "      <td>0.218728</td>\n",
              "      <td>0.090305</td>\n",
              "      <td>0.159943</td>\n",
              "      <td>True</td>\n",
              "      <td>0</td>\n",
              "      <td>1</td>\n",
              "    </tr>\n",
              "    <tr>\n",
              "      <th>4</th>\n",
              "      <td>06YUNBA9ZRLq</td>\n",
              "      <td>0.00</td>\n",
              "      <td>14</td>\n",
              "      <td>8</td>\n",
              "      <td>12</td>\n",
              "      <td>35</td>\n",
              "      <td>22</td>\n",
              "      <td>12</td>\n",
              "      <td>24</td>\n",
              "      <td>6</td>\n",
              "      <td>...</td>\n",
              "      <td>-0.001515</td>\n",
              "      <td>0.166933</td>\n",
              "      <td>0.005170</td>\n",
              "      <td>0.005126</td>\n",
              "      <td>0.126259</td>\n",
              "      <td>-0.038223</td>\n",
              "      <td>0.181322</td>\n",
              "      <td>True</td>\n",
              "      <td>1</td>\n",
              "      <td>0</td>\n",
              "    </tr>\n",
              "  </tbody>\n",
              "</table>\n",
              "<p>5 rows × 19924 columns</p>\n",
              "</div>\n",
              "    <div class=\"colab-df-buttons\">\n",
              "\n",
              "  <div class=\"colab-df-container\">\n",
              "    <button class=\"colab-df-convert\" onclick=\"convertToInteractive('df-c5eafb93-b5b9-45f2-b506-cd1e2d4dc1d4')\"\n",
              "            title=\"Convert this dataframe to an interactive table.\"\n",
              "            style=\"display:none;\">\n",
              "\n",
              "  <svg xmlns=\"http://www.w3.org/2000/svg\" height=\"24px\" viewBox=\"0 -960 960 960\">\n",
              "    <path d=\"M120-120v-720h720v720H120Zm60-500h600v-160H180v160Zm220 220h160v-160H400v160Zm0 220h160v-160H400v160ZM180-400h160v-160H180v160Zm440 0h160v-160H620v160ZM180-180h160v-160H180v160Zm440 0h160v-160H620v160Z\"/>\n",
              "  </svg>\n",
              "    </button>\n",
              "\n",
              "  <style>\n",
              "    .colab-df-container {\n",
              "      display:flex;\n",
              "      gap: 12px;\n",
              "    }\n",
              "\n",
              "    .colab-df-convert {\n",
              "      background-color: #E8F0FE;\n",
              "      border: none;\n",
              "      border-radius: 50%;\n",
              "      cursor: pointer;\n",
              "      display: none;\n",
              "      fill: #1967D2;\n",
              "      height: 32px;\n",
              "      padding: 0 0 0 0;\n",
              "      width: 32px;\n",
              "    }\n",
              "\n",
              "    .colab-df-convert:hover {\n",
              "      background-color: #E2EBFA;\n",
              "      box-shadow: 0px 1px 2px rgba(60, 64, 67, 0.3), 0px 1px 3px 1px rgba(60, 64, 67, 0.15);\n",
              "      fill: #174EA6;\n",
              "    }\n",
              "\n",
              "    .colab-df-buttons div {\n",
              "      margin-bottom: 4px;\n",
              "    }\n",
              "\n",
              "    [theme=dark] .colab-df-convert {\n",
              "      background-color: #3B4455;\n",
              "      fill: #D2E3FC;\n",
              "    }\n",
              "\n",
              "    [theme=dark] .colab-df-convert:hover {\n",
              "      background-color: #434B5C;\n",
              "      box-shadow: 0px 1px 3px 1px rgba(0, 0, 0, 0.15);\n",
              "      filter: drop-shadow(0px 1px 2px rgba(0, 0, 0, 0.3));\n",
              "      fill: #FFFFFF;\n",
              "    }\n",
              "  </style>\n",
              "\n",
              "    <script>\n",
              "      const buttonEl =\n",
              "        document.querySelector('#df-c5eafb93-b5b9-45f2-b506-cd1e2d4dc1d4 button.colab-df-convert');\n",
              "      buttonEl.style.display =\n",
              "        google.colab.kernel.accessAllowed ? 'block' : 'none';\n",
              "\n",
              "      async function convertToInteractive(key) {\n",
              "        const element = document.querySelector('#df-c5eafb93-b5b9-45f2-b506-cd1e2d4dc1d4');\n",
              "        const dataTable =\n",
              "          await google.colab.kernel.invokeFunction('convertToInteractive',\n",
              "                                                    [key], {});\n",
              "        if (!dataTable) return;\n",
              "\n",
              "        const docLinkHtml = 'Like what you see? Visit the ' +\n",
              "          '<a target=\"_blank\" href=https://colab.research.google.com/notebooks/data_table.ipynb>data table notebook</a>'\n",
              "          + ' to learn more about interactive tables.';\n",
              "        element.innerHTML = '';\n",
              "        dataTable['output_type'] = 'display_data';\n",
              "        await google.colab.output.renderOutput(dataTable, element);\n",
              "        const docLink = document.createElement('div');\n",
              "        docLink.innerHTML = docLinkHtml;\n",
              "        element.appendChild(docLink);\n",
              "      }\n",
              "    </script>\n",
              "  </div>\n",
              "\n",
              "\n",
              "<div id=\"df-991973b2-6346-4a5f-a63f-a8de29dda15b\">\n",
              "  <button class=\"colab-df-quickchart\" onclick=\"quickchart('df-991973b2-6346-4a5f-a63f-a8de29dda15b')\"\n",
              "            title=\"Suggest charts\"\n",
              "            style=\"display:none;\">\n",
              "\n",
              "<svg xmlns=\"http://www.w3.org/2000/svg\" height=\"24px\"viewBox=\"0 0 24 24\"\n",
              "     width=\"24px\">\n",
              "    <g>\n",
              "        <path d=\"M19 3H5c-1.1 0-2 .9-2 2v14c0 1.1.9 2 2 2h14c1.1 0 2-.9 2-2V5c0-1.1-.9-2-2-2zM9 17H7v-7h2v7zm4 0h-2V7h2v10zm4 0h-2v-4h2v4z\"/>\n",
              "    </g>\n",
              "</svg>\n",
              "  </button>\n",
              "\n",
              "<style>\n",
              "  .colab-df-quickchart {\n",
              "      --bg-color: #E8F0FE;\n",
              "      --fill-color: #1967D2;\n",
              "      --hover-bg-color: #E2EBFA;\n",
              "      --hover-fill-color: #174EA6;\n",
              "      --disabled-fill-color: #AAA;\n",
              "      --disabled-bg-color: #DDD;\n",
              "  }\n",
              "\n",
              "  [theme=dark] .colab-df-quickchart {\n",
              "      --bg-color: #3B4455;\n",
              "      --fill-color: #D2E3FC;\n",
              "      --hover-bg-color: #434B5C;\n",
              "      --hover-fill-color: #FFFFFF;\n",
              "      --disabled-bg-color: #3B4455;\n",
              "      --disabled-fill-color: #666;\n",
              "  }\n",
              "\n",
              "  .colab-df-quickchart {\n",
              "    background-color: var(--bg-color);\n",
              "    border: none;\n",
              "    border-radius: 50%;\n",
              "    cursor: pointer;\n",
              "    display: none;\n",
              "    fill: var(--fill-color);\n",
              "    height: 32px;\n",
              "    padding: 0;\n",
              "    width: 32px;\n",
              "  }\n",
              "\n",
              "  .colab-df-quickchart:hover {\n",
              "    background-color: var(--hover-bg-color);\n",
              "    box-shadow: 0 1px 2px rgba(60, 64, 67, 0.3), 0 1px 3px 1px rgba(60, 64, 67, 0.15);\n",
              "    fill: var(--button-hover-fill-color);\n",
              "  }\n",
              "\n",
              "  .colab-df-quickchart-complete:disabled,\n",
              "  .colab-df-quickchart-complete:disabled:hover {\n",
              "    background-color: var(--disabled-bg-color);\n",
              "    fill: var(--disabled-fill-color);\n",
              "    box-shadow: none;\n",
              "  }\n",
              "\n",
              "  .colab-df-spinner {\n",
              "    border: 2px solid var(--fill-color);\n",
              "    border-color: transparent;\n",
              "    border-bottom-color: var(--fill-color);\n",
              "    animation:\n",
              "      spin 1s steps(1) infinite;\n",
              "  }\n",
              "\n",
              "  @keyframes spin {\n",
              "    0% {\n",
              "      border-color: transparent;\n",
              "      border-bottom-color: var(--fill-color);\n",
              "      border-left-color: var(--fill-color);\n",
              "    }\n",
              "    20% {\n",
              "      border-color: transparent;\n",
              "      border-left-color: var(--fill-color);\n",
              "      border-top-color: var(--fill-color);\n",
              "    }\n",
              "    30% {\n",
              "      border-color: transparent;\n",
              "      border-left-color: var(--fill-color);\n",
              "      border-top-color: var(--fill-color);\n",
              "      border-right-color: var(--fill-color);\n",
              "    }\n",
              "    40% {\n",
              "      border-color: transparent;\n",
              "      border-right-color: var(--fill-color);\n",
              "      border-top-color: var(--fill-color);\n",
              "    }\n",
              "    60% {\n",
              "      border-color: transparent;\n",
              "      border-right-color: var(--fill-color);\n",
              "    }\n",
              "    80% {\n",
              "      border-color: transparent;\n",
              "      border-right-color: var(--fill-color);\n",
              "      border-bottom-color: var(--fill-color);\n",
              "    }\n",
              "    90% {\n",
              "      border-color: transparent;\n",
              "      border-bottom-color: var(--fill-color);\n",
              "    }\n",
              "  }\n",
              "</style>\n",
              "\n",
              "  <script>\n",
              "    async function quickchart(key) {\n",
              "      const quickchartButtonEl =\n",
              "        document.querySelector('#' + key + ' button');\n",
              "      quickchartButtonEl.disabled = true;  // To prevent multiple clicks.\n",
              "      quickchartButtonEl.classList.add('colab-df-spinner');\n",
              "      try {\n",
              "        const charts = await google.colab.kernel.invokeFunction(\n",
              "            'suggestCharts', [key], {});\n",
              "      } catch (error) {\n",
              "        console.error('Error during call to suggestCharts:', error);\n",
              "      }\n",
              "      quickchartButtonEl.classList.remove('colab-df-spinner');\n",
              "      quickchartButtonEl.classList.add('colab-df-quickchart-complete');\n",
              "    }\n",
              "    (() => {\n",
              "      let quickchartButtonEl =\n",
              "        document.querySelector('#df-991973b2-6346-4a5f-a63f-a8de29dda15b button');\n",
              "      quickchartButtonEl.style.display =\n",
              "        google.colab.kernel.accessAllowed ? 'block' : 'none';\n",
              "    })();\n",
              "  </script>\n",
              "</div>\n",
              "\n",
              "    </div>\n",
              "  </div>\n"
            ],
            "application/vnd.google.colaboratory.intrinsic+json": {
              "type": "dataframe",
              "variable_name": "merged_df"
            }
          },
          "metadata": {},
          "execution_count": 13
        }
      ]
    },
    {
      "cell_type": "code",
      "source": [
        "#check if null value exist in the list\n",
        "na_check = merged_df.isna().sum()\n",
        "if (na_check > 0).any():\n",
        "  print(\"there are null values in merged_df\")\n",
        "else:\n",
        "  print(\"there are no null values in merged_df\")\n"
      ],
      "metadata": {
        "colab": {
          "base_uri": "https://localhost:8080/"
        },
        "id": "mZUf3J6wzikS",
        "outputId": "f2467f56-7c21-40d3-8456-6cfc36b00ef9"
      },
      "execution_count": 14,
      "outputs": [
        {
          "output_type": "stream",
          "name": "stdout",
          "text": [
            "there are no null values in merged_df\n"
          ]
        }
      ]
    },
    {
      "cell_type": "code",
      "source": [
        "merged_df.drop(\"participant_id_in_categorical\", axis=1, inplace=True)"
      ],
      "metadata": {
        "id": "hpCYyjDjWdzB"
      },
      "execution_count": 20,
      "outputs": []
    },
    {
      "cell_type": "code",
      "source": [
        "# Create X and Y for modeling\n",
        "\n",
        "# Y is the target (we need 2, ADHD and Sex)\n",
        "# X is the rest of the columns except target\n",
        "\n",
        "target_columns = df_target.columns\n",
        "print(target_columns)\n",
        "\n",
        "#dropping the target columns in X\n",
        "X = merged_df.drop(['ADHD_Outcome', 'Sex_F'], axis=1)\n",
        "participants_list = merged_df['participant_id']\n",
        "print(\"X shape: \", X.shape)\n",
        "print(\"length of participants_list: \", len(participants_list))"
      ],
      "metadata": {
        "colab": {
          "base_uri": "https://localhost:8080/"
        },
        "id": "wXJ8Ha_80lFB",
        "outputId": "d7c56ff7-2aea-430e-cfaf-dc88e30ee104"
      },
      "execution_count": 21,
      "outputs": [
        {
          "output_type": "stream",
          "name": "stdout",
          "text": [
            "Index(['participant_id', 'ADHD_Outcome', 'Sex_F'], dtype='object')\n",
            "X shape:  (1213, 19921)\n",
            "length of participants_list:  1213\n"
          ]
        }
      ]
    },
    {
      "cell_type": "code",
      "source": [
        "X.columns"
      ],
      "metadata": {
        "colab": {
          "base_uri": "https://localhost:8080/"
        },
        "id": "Rpk28utzSN6a",
        "outputId": "c59e5172-95e4-4f04-c4b3-5c3fd70e9a83"
      },
      "execution_count": 22,
      "outputs": [
        {
          "output_type": "execute_result",
          "data": {
            "text/plain": [
              "Index(['participant_id', 'EHQ_EHQ_Total', 'ColorVision_CV_Score',\n",
              "       'APQ_P_APQ_P_CP', 'APQ_P_APQ_P_ID', 'APQ_P_APQ_P_INV',\n",
              "       'APQ_P_APQ_P_OPD', 'APQ_P_APQ_P_PM', 'APQ_P_APQ_P_PP',\n",
              "       'SDQ_SDQ_Conduct_Problems',\n",
              "       ...\n",
              "       '195throw_196thcolumn', '195throw_197thcolumn', '195throw_198thcolumn',\n",
              "       '195throw_199thcolumn', '196throw_197thcolumn', '196throw_198thcolumn',\n",
              "       '196throw_199thcolumn', '197throw_198thcolumn', '197throw_199thcolumn',\n",
              "       '198throw_199thcolumn'],\n",
              "      dtype='object', length=19921)"
            ]
          },
          "metadata": {},
          "execution_count": 22
        }
      ]
    },
    {
      "cell_type": "code",
      "source": [
        "# y training set for sex and ADHD\n",
        "y_sex = merged_df['Sex_F']\n",
        "y_adhd = merged_df['ADHD_Outcome']"
      ],
      "metadata": {
        "id": "H6bsajGQ4Ayh"
      },
      "execution_count": 23,
      "outputs": []
    },
    {
      "cell_type": "code",
      "source": [
        "import tensorflow as tf\n",
        "from tensorflow.keras.models import Sequential\n",
        "from tensorflow.keras.layers import Dense\n",
        "from sklearn.model_selection import train_test_split\n",
        "from sklearn.preprocessing import StandardScaler"
      ],
      "metadata": {
        "id": "KFnC5QemXF2I"
      },
      "execution_count": 24,
      "outputs": []
    },
    {
      "cell_type": "code",
      "source": [
        "participant_list = X['participant_id']\n",
        "X = X.drop('participant_id', axis=1)"
      ],
      "metadata": {
        "id": "mLx_6MulXxvN"
      },
      "execution_count": 26,
      "outputs": []
    },
    {
      "cell_type": "code",
      "source": [
        "from tensorflow.keras.models import Model\n",
        "from tensorflow.keras.layers import Input, Dense\n",
        "from tensorflow.keras.optimizers import Adam\n",
        "from sklearn.preprocessing import StandardScaler\n",
        "from sklearn.model_selection import train_test_split\n",
        "\n",
        "# Standardize the data\n",
        "scaler = StandardScaler()\n",
        "X_scaled = scaler.fit_transform(X)\n",
        "\n",
        "# Split data into training and test sets (70% training, 30% test)\n",
        "X_train, X_test, y_train_adhd, y_test_adhd, y_train_sex, y_test_sex = train_test_split(\n",
        "    X_scaled, y_adhd, y_sex, test_size=0.3, random_state=1234)\n",
        "\n",
        "# Build the model using Functional API\n",
        "inputs = Input(shape=(X_train.shape[1],))  # Define input layer\n",
        "\n",
        "# Shared hidden layers\n",
        "x = Dense(512, activation='relu')(inputs)\n",
        "x = Dense(256, activation='relu')(x)\n",
        "x = Dense(128, activation='relu')(x)\n",
        "\n",
        "# Output layers for ADHD and Sex\n",
        "adhd_output = Dense(1, activation='sigmoid', name='adhd_output')(x)\n",
        "sex_output = Dense(1, activation='sigmoid', name='sex_output')(x)\n",
        "\n",
        "# Create the model\n",
        "model = Model(inputs=inputs, outputs=[adhd_output, sex_output])\n",
        "\n",
        "# Compile the model\n",
        "model.compile(optimizer=Adam(),\n",
        "              loss={'adhd_output': 'binary_crossentropy', 'sex_output': 'binary_crossentropy'},\n",
        "              metrics={'adhd_output': 'accuracy', 'sex_output': 'accuracy'})\n",
        "\n",
        "# Train the model\n",
        "history = model.fit(X_train, [y_train_adhd, y_train_sex],\n",
        "                    epochs=50, batch_size=32, validation_split=0.2, verbose=1)"
      ],
      "metadata": {
        "colab": {
          "base_uri": "https://localhost:8080/",
          "height": 1000
        },
        "id": "O_x_MI-ZXNwC",
        "outputId": "0f599e72-1a4f-4031-bb40-7ae028e1dce0"
      },
      "execution_count": 38,
      "outputs": [
        {
          "output_type": "stream",
          "name": "stdout",
          "text": [
            "Epoch 1/50\n",
            "\u001b[1m22/22\u001b[0m \u001b[32m━━━━━━━━━━━━━━━━━━━━\u001b[0m\u001b[37m\u001b[0m \u001b[1m8s\u001b[0m 225ms/step - adhd_output_accuracy: 0.6192 - adhd_output_loss: 0.7296 - loss: 1.4451 - sex_output_accuracy: 0.6208 - sex_output_loss: 0.7142 - val_adhd_output_accuracy: 0.6706 - val_adhd_output_loss: 0.6945 - val_loss: 1.2753 - val_sex_output_accuracy: 0.6176 - val_sex_output_loss: 0.6279\n",
            "Epoch 2/50\n",
            "\u001b[1m22/22\u001b[0m \u001b[32m━━━━━━━━━━━━━━━━━━━━\u001b[0m\u001b[37m\u001b[0m \u001b[1m10s\u001b[0m 213ms/step - adhd_output_accuracy: 0.9464 - adhd_output_loss: 0.1452 - loss: 0.2341 - sex_output_accuracy: 0.9732 - sex_output_loss: 0.0885 - val_adhd_output_accuracy: 0.6176 - val_adhd_output_loss: 0.7596 - val_loss: 1.3455 - val_sex_output_accuracy: 0.7118 - val_sex_output_loss: 0.6527\n",
            "Epoch 3/50\n",
            "\u001b[1m22/22\u001b[0m \u001b[32m━━━━━━━━━━━━━━━━━━━━\u001b[0m\u001b[37m\u001b[0m \u001b[1m5s\u001b[0m 225ms/step - adhd_output_accuracy: 1.0000 - adhd_output_loss: 0.0053 - loss: 0.0152 - sex_output_accuracy: 0.9949 - sex_output_loss: 0.0099 - val_adhd_output_accuracy: 0.6412 - val_adhd_output_loss: 0.8373 - val_loss: 1.4351 - val_sex_output_accuracy: 0.7118 - val_sex_output_loss: 0.6790\n",
            "Epoch 4/50\n",
            "\u001b[1m22/22\u001b[0m \u001b[32m━━━━━━━━━━━━━━━━━━━━\u001b[0m\u001b[37m\u001b[0m \u001b[1m6s\u001b[0m 262ms/step - adhd_output_accuracy: 1.0000 - adhd_output_loss: 6.0549e-04 - loss: 0.0013 - sex_output_accuracy: 1.0000 - sex_output_loss: 6.5184e-04 - val_adhd_output_accuracy: 0.6176 - val_adhd_output_loss: 0.8578 - val_loss: 1.4591 - val_sex_output_accuracy: 0.7118 - val_sex_output_loss: 0.6805\n",
            "Epoch 5/50\n",
            "\u001b[1m22/22\u001b[0m \u001b[32m━━━━━━━━━━━━━━━━━━━━\u001b[0m\u001b[37m\u001b[0m \u001b[1m10s\u001b[0m 256ms/step - adhd_output_accuracy: 1.0000 - adhd_output_loss: 3.9235e-04 - loss: 7.3955e-04 - sex_output_accuracy: 1.0000 - sex_output_loss: 3.4738e-04 - val_adhd_output_accuracy: 0.6176 - val_adhd_output_loss: 0.8707 - val_loss: 1.4766 - val_sex_output_accuracy: 0.7294 - val_sex_output_loss: 0.6886\n",
            "Epoch 6/50\n",
            "\u001b[1m22/22\u001b[0m \u001b[32m━━━━━━━━━━━━━━━━━━━━\u001b[0m\u001b[37m\u001b[0m \u001b[1m9s\u001b[0m 209ms/step - adhd_output_accuracy: 1.0000 - adhd_output_loss: 3.2263e-04 - loss: 5.8621e-04 - sex_output_accuracy: 1.0000 - sex_output_loss: 2.6265e-04 - val_adhd_output_accuracy: 0.6176 - val_adhd_output_loss: 0.8809 - val_loss: 1.4911 - val_sex_output_accuracy: 0.7353 - val_sex_output_loss: 0.6958\n",
            "Epoch 7/50\n",
            "\u001b[1m22/22\u001b[0m \u001b[32m━━━━━━━━━━━━━━━━━━━━\u001b[0m\u001b[37m\u001b[0m \u001b[1m7s\u001b[0m 288ms/step - adhd_output_accuracy: 1.0000 - adhd_output_loss: 2.4686e-04 - loss: 4.3419e-04 - sex_output_accuracy: 1.0000 - sex_output_loss: 1.8767e-04 - val_adhd_output_accuracy: 0.6176 - val_adhd_output_loss: 0.8893 - val_loss: 1.5033 - val_sex_output_accuracy: 0.7412 - val_sex_output_loss: 0.7018\n",
            "Epoch 8/50\n",
            "\u001b[1m22/22\u001b[0m \u001b[32m━━━━━━━━━━━━━━━━━━━━\u001b[0m\u001b[37m\u001b[0m \u001b[1m5s\u001b[0m 208ms/step - adhd_output_accuracy: 1.0000 - adhd_output_loss: 2.0344e-04 - loss: 3.7355e-04 - sex_output_accuracy: 1.0000 - sex_output_loss: 1.7045e-04 - val_adhd_output_accuracy: 0.6235 - val_adhd_output_loss: 0.8973 - val_loss: 1.5144 - val_sex_output_accuracy: 0.7412 - val_sex_output_loss: 0.7068\n",
            "Epoch 9/50\n",
            "\u001b[1m22/22\u001b[0m \u001b[32m━━━━━━━━━━━━━━━━━━━━\u001b[0m\u001b[37m\u001b[0m \u001b[1m5s\u001b[0m 208ms/step - adhd_output_accuracy: 1.0000 - adhd_output_loss: 1.5993e-04 - loss: 2.8030e-04 - sex_output_accuracy: 1.0000 - sex_output_loss: 1.2068e-04 - val_adhd_output_accuracy: 0.6235 - val_adhd_output_loss: 0.9046 - val_loss: 1.5250 - val_sex_output_accuracy: 0.7412 - val_sex_output_loss: 0.7118\n",
            "Epoch 10/50\n",
            "\u001b[1m22/22\u001b[0m \u001b[32m━━━━━━━━━━━━━━━━━━━━\u001b[0m\u001b[37m\u001b[0m \u001b[1m7s\u001b[0m 328ms/step - adhd_output_accuracy: 1.0000 - adhd_output_loss: 1.4584e-04 - loss: 2.6753e-04 - sex_output_accuracy: 1.0000 - sex_output_loss: 1.2129e-04 - val_adhd_output_accuracy: 0.6235 - val_adhd_output_loss: 0.9111 - val_loss: 1.5342 - val_sex_output_accuracy: 0.7412 - val_sex_output_loss: 0.7157\n",
            "Epoch 11/50\n",
            "\u001b[1m22/22\u001b[0m \u001b[32m━━━━━━━━━━━━━━━━━━━━\u001b[0m\u001b[37m\u001b[0m \u001b[1m5s\u001b[0m 211ms/step - adhd_output_accuracy: 1.0000 - adhd_output_loss: 1.2810e-04 - loss: 2.3119e-04 - sex_output_accuracy: 1.0000 - sex_output_loss: 1.0256e-04 - val_adhd_output_accuracy: 0.6235 - val_adhd_output_loss: 0.9173 - val_loss: 1.5431 - val_sex_output_accuracy: 0.7412 - val_sex_output_loss: 0.7195\n",
            "Epoch 12/50\n",
            "\u001b[1m22/22\u001b[0m \u001b[32m━━━━━━━━━━━━━━━━━━━━\u001b[0m\u001b[37m\u001b[0m \u001b[1m6s\u001b[0m 269ms/step - adhd_output_accuracy: 1.0000 - adhd_output_loss: 1.0793e-04 - loss: 2.0528e-04 - sex_output_accuracy: 1.0000 - sex_output_loss: 9.7373e-05 - val_adhd_output_accuracy: 0.6176 - val_adhd_output_loss: 0.9233 - val_loss: 1.5516 - val_sex_output_accuracy: 0.7412 - val_sex_output_loss: 0.7231\n",
            "Epoch 13/50\n",
            "\u001b[1m22/22\u001b[0m \u001b[32m━━━━━━━━━━━━━━━━━━━━\u001b[0m\u001b[37m\u001b[0m \u001b[1m9s\u001b[0m 212ms/step - adhd_output_accuracy: 1.0000 - adhd_output_loss: 1.0640e-04 - loss: 1.9736e-04 - sex_output_accuracy: 1.0000 - sex_output_loss: 9.1241e-05 - val_adhd_output_accuracy: 0.6176 - val_adhd_output_loss: 0.9293 - val_loss: 1.5600 - val_sex_output_accuracy: 0.7412 - val_sex_output_loss: 0.7264\n",
            "Epoch 14/50\n",
            "\u001b[1m22/22\u001b[0m \u001b[32m━━━━━━━━━━━━━━━━━━━━\u001b[0m\u001b[37m\u001b[0m \u001b[1m7s\u001b[0m 314ms/step - adhd_output_accuracy: 1.0000 - adhd_output_loss: 9.9890e-05 - loss: 1.8241e-04 - sex_output_accuracy: 1.0000 - sex_output_loss: 8.2244e-05 - val_adhd_output_accuracy: 0.6176 - val_adhd_output_loss: 0.9351 - val_loss: 1.5682 - val_sex_output_accuracy: 0.7412 - val_sex_output_loss: 0.7300\n",
            "Epoch 15/50\n",
            "\u001b[1m22/22\u001b[0m \u001b[32m━━━━━━━━━━━━━━━━━━━━\u001b[0m\u001b[37m\u001b[0m \u001b[1m5s\u001b[0m 211ms/step - adhd_output_accuracy: 1.0000 - adhd_output_loss: 8.3114e-05 - loss: 1.4576e-04 - sex_output_accuracy: 1.0000 - sex_output_loss: 6.2344e-05 - val_adhd_output_accuracy: 0.6176 - val_adhd_output_loss: 0.9402 - val_loss: 1.5757 - val_sex_output_accuracy: 0.7412 - val_sex_output_loss: 0.7332\n",
            "Epoch 16/50\n",
            "\u001b[1m22/22\u001b[0m \u001b[32m━━━━━━━━━━━━━━━━━━━━\u001b[0m\u001b[37m\u001b[0m \u001b[1m6s\u001b[0m 263ms/step - adhd_output_accuracy: 1.0000 - adhd_output_loss: 8.0083e-05 - loss: 1.4145e-04 - sex_output_accuracy: 1.0000 - sex_output_loss: 6.1671e-05 - val_adhd_output_accuracy: 0.6176 - val_adhd_output_loss: 0.9453 - val_loss: 1.5830 - val_sex_output_accuracy: 0.7471 - val_sex_output_loss: 0.7363\n",
            "Epoch 17/50\n",
            "\u001b[1m22/22\u001b[0m \u001b[32m━━━━━━━━━━━━━━━━━━━━\u001b[0m\u001b[37m\u001b[0m \u001b[1m9s\u001b[0m 212ms/step - adhd_output_accuracy: 1.0000 - adhd_output_loss: 7.1791e-05 - loss: 1.2558e-04 - sex_output_accuracy: 1.0000 - sex_output_loss: 5.3627e-05 - val_adhd_output_accuracy: 0.6176 - val_adhd_output_loss: 0.9504 - val_loss: 1.5903 - val_sex_output_accuracy: 0.7471 - val_sex_output_loss: 0.7394\n",
            "Epoch 18/50\n",
            "\u001b[1m22/22\u001b[0m \u001b[32m━━━━━━━━━━━━━━━━━━━━\u001b[0m\u001b[37m\u001b[0m \u001b[1m7s\u001b[0m 292ms/step - adhd_output_accuracy: 1.0000 - adhd_output_loss: 6.2726e-05 - loss: 1.0931e-04 - sex_output_accuracy: 1.0000 - sex_output_loss: 4.6759e-05 - val_adhd_output_accuracy: 0.6176 - val_adhd_output_loss: 0.9551 - val_loss: 1.5971 - val_sex_output_accuracy: 0.7471 - val_sex_output_loss: 0.7423\n",
            "Epoch 19/50\n",
            "\u001b[1m22/22\u001b[0m \u001b[32m━━━━━━━━━━━━━━━━━━━━\u001b[0m\u001b[37m\u001b[0m \u001b[1m5s\u001b[0m 213ms/step - adhd_output_accuracy: 1.0000 - adhd_output_loss: 5.7796e-05 - loss: 1.0415e-04 - sex_output_accuracy: 1.0000 - sex_output_loss: 4.6236e-05 - val_adhd_output_accuracy: 0.6176 - val_adhd_output_loss: 0.9601 - val_loss: 1.6040 - val_sex_output_accuracy: 0.7471 - val_sex_output_loss: 0.7450\n",
            "Epoch 20/50\n",
            "\u001b[1m22/22\u001b[0m \u001b[32m━━━━━━━━━━━━━━━━━━━━\u001b[0m\u001b[37m\u001b[0m \u001b[1m5s\u001b[0m 212ms/step - adhd_output_accuracy: 1.0000 - adhd_output_loss: 5.3520e-05 - loss: 9.8251e-05 - sex_output_accuracy: 1.0000 - sex_output_loss: 4.4680e-05 - val_adhd_output_accuracy: 0.6176 - val_adhd_output_loss: 0.9644 - val_loss: 1.6102 - val_sex_output_accuracy: 0.7471 - val_sex_output_loss: 0.7476\n",
            "Epoch 21/50\n",
            "\u001b[1m22/22\u001b[0m \u001b[32m━━━━━━━━━━━━━━━━━━━━\u001b[0m\u001b[37m\u001b[0m \u001b[1m6s\u001b[0m 294ms/step - adhd_output_accuracy: 1.0000 - adhd_output_loss: 4.9801e-05 - loss: 8.8599e-05 - sex_output_accuracy: 1.0000 - sex_output_loss: 3.9036e-05 - val_adhd_output_accuracy: 0.6176 - val_adhd_output_loss: 0.9690 - val_loss: 1.6164 - val_sex_output_accuracy: 0.7471 - val_sex_output_loss: 0.7501\n",
            "Epoch 22/50\n",
            "\u001b[1m22/22\u001b[0m \u001b[32m━━━━━━━━━━━━━━━━━━━━\u001b[0m\u001b[37m\u001b[0m \u001b[1m5s\u001b[0m 211ms/step - adhd_output_accuracy: 1.0000 - adhd_output_loss: 4.8510e-05 - loss: 8.5079e-05 - sex_output_accuracy: 1.0000 - sex_output_loss: 3.6379e-05 - val_adhd_output_accuracy: 0.6176 - val_adhd_output_loss: 0.9733 - val_loss: 1.6229 - val_sex_output_accuracy: 0.7412 - val_sex_output_loss: 0.7530\n",
            "Epoch 23/50\n",
            "\u001b[1m22/22\u001b[0m \u001b[32m━━━━━━━━━━━━━━━━━━━━\u001b[0m\u001b[37m\u001b[0m \u001b[1m5s\u001b[0m 246ms/step - adhd_output_accuracy: 1.0000 - adhd_output_loss: 4.6101e-05 - loss: 8.4628e-05 - sex_output_accuracy: 1.0000 - sex_output_loss: 3.8673e-05 - val_adhd_output_accuracy: 0.6176 - val_adhd_output_loss: 0.9772 - val_loss: 1.6289 - val_sex_output_accuracy: 0.7412 - val_sex_output_loss: 0.7556\n",
            "Epoch 24/50\n",
            "\u001b[1m22/22\u001b[0m \u001b[32m━━━━━━━━━━━━━━━━━━━━\u001b[0m\u001b[37m\u001b[0m \u001b[1m10s\u001b[0m 213ms/step - adhd_output_accuracy: 1.0000 - adhd_output_loss: 4.1069e-05 - loss: 7.3489e-05 - sex_output_accuracy: 1.0000 - sex_output_loss: 3.2494e-05 - val_adhd_output_accuracy: 0.6118 - val_adhd_output_loss: 0.9813 - val_loss: 1.6346 - val_sex_output_accuracy: 0.7412 - val_sex_output_loss: 0.7579\n",
            "Epoch 25/50\n",
            "\u001b[1m22/22\u001b[0m \u001b[32m━━━━━━━━━━━━━━━━━━━━\u001b[0m\u001b[37m\u001b[0m \u001b[1m7s\u001b[0m 340ms/step - adhd_output_accuracy: 1.0000 - adhd_output_loss: 3.5883e-05 - loss: 6.5168e-05 - sex_output_accuracy: 1.0000 - sex_output_loss: 2.9294e-05 - val_adhd_output_accuracy: 0.6118 - val_adhd_output_loss: 0.9851 - val_loss: 1.6400 - val_sex_output_accuracy: 0.7412 - val_sex_output_loss: 0.7601\n",
            "Epoch 26/50\n",
            "\u001b[1m22/22\u001b[0m \u001b[32m━━━━━━━━━━━━━━━━━━━━\u001b[0m\u001b[37m\u001b[0m \u001b[1m5s\u001b[0m 213ms/step - adhd_output_accuracy: 1.0000 - adhd_output_loss: 3.7532e-05 - loss: 6.5727e-05 - sex_output_accuracy: 1.0000 - sex_output_loss: 2.8283e-05 - val_adhd_output_accuracy: 0.6118 - val_adhd_output_loss: 0.9887 - val_loss: 1.6455 - val_sex_output_accuracy: 0.7412 - val_sex_output_loss: 0.7626\n",
            "Epoch 27/50\n",
            "\u001b[1m22/22\u001b[0m \u001b[32m━━━━━━━━━━━━━━━━━━━━\u001b[0m\u001b[37m\u001b[0m \u001b[1m5s\u001b[0m 220ms/step - adhd_output_accuracy: 1.0000 - adhd_output_loss: 3.5012e-05 - loss: 6.2647e-05 - sex_output_accuracy: 1.0000 - sex_output_loss: 2.7518e-05 - val_adhd_output_accuracy: 0.6118 - val_adhd_output_loss: 0.9924 - val_loss: 1.6508 - val_sex_output_accuracy: 0.7412 - val_sex_output_loss: 0.7648\n",
            "Epoch 28/50\n",
            "\u001b[1m22/22\u001b[0m \u001b[32m━━━━━━━━━━━━━━━━━━━━\u001b[0m\u001b[37m\u001b[0m \u001b[1m6s\u001b[0m 278ms/step - adhd_output_accuracy: 1.0000 - adhd_output_loss: 3.4702e-05 - loss: 5.9546e-05 - sex_output_accuracy: 1.0000 - sex_output_loss: 2.4999e-05 - val_adhd_output_accuracy: 0.6118 - val_adhd_output_loss: 0.9960 - val_loss: 1.6560 - val_sex_output_accuracy: 0.7412 - val_sex_output_loss: 0.7670\n",
            "Epoch 29/50\n",
            "\u001b[1m22/22\u001b[0m \u001b[32m━━━━━━━━━━━━━━━━━━━━\u001b[0m\u001b[37m\u001b[0m \u001b[1m5s\u001b[0m 212ms/step - adhd_output_accuracy: 1.0000 - adhd_output_loss: 2.8560e-05 - loss: 4.9703e-05 - sex_output_accuracy: 1.0000 - sex_output_loss: 2.1092e-05 - val_adhd_output_accuracy: 0.6118 - val_adhd_output_loss: 0.9993 - val_loss: 1.6611 - val_sex_output_accuracy: 0.7412 - val_sex_output_loss: 0.7693\n",
            "Epoch 30/50\n",
            "\u001b[1m22/22\u001b[0m \u001b[32m━━━━━━━━━━━━━━━━━━━━\u001b[0m\u001b[37m\u001b[0m \u001b[1m6s\u001b[0m 274ms/step - adhd_output_accuracy: 1.0000 - adhd_output_loss: 2.8153e-05 - loss: 5.1113e-05 - sex_output_accuracy: 1.0000 - sex_output_loss: 2.2853e-05 - val_adhd_output_accuracy: 0.6118 - val_adhd_output_loss: 1.0028 - val_loss: 1.6660 - val_sex_output_accuracy: 0.7412 - val_sex_output_loss: 0.7713\n",
            "Epoch 31/50\n",
            "\u001b[1m22/22\u001b[0m \u001b[32m━━━━━━━━━━━━━━━━━━━━\u001b[0m\u001b[37m\u001b[0m \u001b[1m10s\u001b[0m 246ms/step - adhd_output_accuracy: 1.0000 - adhd_output_loss: 2.5423e-05 - loss: 4.5622e-05 - sex_output_accuracy: 1.0000 - sex_output_loss: 2.0171e-05 - val_adhd_output_accuracy: 0.6118 - val_adhd_output_loss: 1.0062 - val_loss: 1.6709 - val_sex_output_accuracy: 0.7412 - val_sex_output_loss: 0.7734\n",
            "Epoch 32/50\n",
            "\u001b[1m22/22\u001b[0m \u001b[32m━━━━━━━━━━━━━━━━━━━━\u001b[0m\u001b[37m\u001b[0m \u001b[1m12s\u001b[0m 559ms/step - adhd_output_accuracy: 1.0000 - adhd_output_loss: 2.3668e-05 - loss: 4.4349e-05 - sex_output_accuracy: 1.0000 - sex_output_loss: 2.0602e-05 - val_adhd_output_accuracy: 0.6118 - val_adhd_output_loss: 1.0095 - val_loss: 1.6760 - val_sex_output_accuracy: 0.7412 - val_sex_output_loss: 0.7757\n",
            "Epoch 33/50\n",
            "\u001b[1m22/22\u001b[0m \u001b[32m━━━━━━━━━━━━━━━━━━━━\u001b[0m\u001b[37m\u001b[0m \u001b[1m5s\u001b[0m 214ms/step - adhd_output_accuracy: 1.0000 - adhd_output_loss: 2.2258e-05 - loss: 3.9646e-05 - sex_output_accuracy: 1.0000 - sex_output_loss: 1.7430e-05 - val_adhd_output_accuracy: 0.6118 - val_adhd_output_loss: 1.0127 - val_loss: 1.6807 - val_sex_output_accuracy: 0.7412 - val_sex_output_loss: 0.7777\n",
            "Epoch 34/50\n",
            "\u001b[1m22/22\u001b[0m \u001b[32m━━━━━━━━━━━━━━━━━━━━\u001b[0m\u001b[37m\u001b[0m \u001b[1m7s\u001b[0m 304ms/step - adhd_output_accuracy: 1.0000 - adhd_output_loss: 2.1070e-05 - loss: 3.8077e-05 - sex_output_accuracy: 1.0000 - sex_output_loss: 1.7017e-05 - val_adhd_output_accuracy: 0.6118 - val_adhd_output_loss: 1.0159 - val_loss: 1.6853 - val_sex_output_accuracy: 0.7412 - val_sex_output_loss: 0.7798\n",
            "Epoch 35/50\n",
            "\u001b[1m22/22\u001b[0m \u001b[32m━━━━━━━━━━━━━━━━━━━━\u001b[0m\u001b[37m\u001b[0m \u001b[1m5s\u001b[0m 216ms/step - adhd_output_accuracy: 1.0000 - adhd_output_loss: 2.2035e-05 - loss: 3.8942e-05 - sex_output_accuracy: 1.0000 - sex_output_loss: 1.6944e-05 - val_adhd_output_accuracy: 0.6118 - val_adhd_output_loss: 1.0191 - val_loss: 1.6900 - val_sex_output_accuracy: 0.7412 - val_sex_output_loss: 0.7817\n",
            "Epoch 36/50\n",
            "\u001b[1m22/22\u001b[0m \u001b[32m━━━━━━━━━━━━━━━━━━━━\u001b[0m\u001b[37m\u001b[0m \u001b[1m5s\u001b[0m 214ms/step - adhd_output_accuracy: 1.0000 - adhd_output_loss: 2.0485e-05 - loss: 3.7482e-05 - sex_output_accuracy: 1.0000 - sex_output_loss: 1.6964e-05 - val_adhd_output_accuracy: 0.6118 - val_adhd_output_loss: 1.0221 - val_loss: 1.6944 - val_sex_output_accuracy: 0.7412 - val_sex_output_loss: 0.7836\n",
            "Epoch 37/50\n",
            "\u001b[1m22/22\u001b[0m \u001b[32m━━━━━━━━━━━━━━━━━━━━\u001b[0m\u001b[37m\u001b[0m \u001b[1m7s\u001b[0m 281ms/step - adhd_output_accuracy: 1.0000 - adhd_output_loss: 1.9352e-05 - loss: 3.4771e-05 - sex_output_accuracy: 1.0000 - sex_output_loss: 1.5488e-05 - val_adhd_output_accuracy: 0.6118 - val_adhd_output_loss: 1.0252 - val_loss: 1.6989 - val_sex_output_accuracy: 0.7412 - val_sex_output_loss: 0.7856\n",
            "Epoch 38/50\n",
            "\u001b[1m22/22\u001b[0m \u001b[32m━━━━━━━━━━━━━━━━━━━━\u001b[0m\u001b[37m\u001b[0m \u001b[1m9s\u001b[0m 250ms/step - adhd_output_accuracy: 1.0000 - adhd_output_loss: 1.8556e-05 - loss: 3.4316e-05 - sex_output_accuracy: 1.0000 - sex_output_loss: 1.5734e-05 - val_adhd_output_accuracy: 0.6118 - val_adhd_output_loss: 1.0283 - val_loss: 1.7035 - val_sex_output_accuracy: 0.7412 - val_sex_output_loss: 0.7875\n",
            "Epoch 39/50\n",
            "\u001b[1m22/22\u001b[0m \u001b[32m━━━━━━━━━━━━━━━━━━━━\u001b[0m\u001b[37m\u001b[0m \u001b[1m9s\u001b[0m 215ms/step - adhd_output_accuracy: 1.0000 - adhd_output_loss: 1.6766e-05 - loss: 2.9946e-05 - sex_output_accuracy: 1.0000 - sex_output_loss: 1.3214e-05 - val_adhd_output_accuracy: 0.6118 - val_adhd_output_loss: 1.0312 - val_loss: 1.7077 - val_sex_output_accuracy: 0.7412 - val_sex_output_loss: 0.7893\n",
            "Epoch 40/50\n",
            "\u001b[1m22/22\u001b[0m \u001b[32m━━━━━━━━━━━━━━━━━━━━\u001b[0m\u001b[37m\u001b[0m \u001b[1m7s\u001b[0m 298ms/step - adhd_output_accuracy: 1.0000 - adhd_output_loss: 1.5171e-05 - loss: 2.7720e-05 - sex_output_accuracy: 1.0000 - sex_output_loss: 1.2510e-05 - val_adhd_output_accuracy: 0.6118 - val_adhd_output_loss: 1.0342 - val_loss: 1.7121 - val_sex_output_accuracy: 0.7412 - val_sex_output_loss: 0.7913\n",
            "Epoch 41/50\n",
            "\u001b[1m22/22\u001b[0m \u001b[32m━━━━━━━━━━━━━━━━━━━━\u001b[0m\u001b[37m\u001b[0m \u001b[1m9s\u001b[0m 217ms/step - adhd_output_accuracy: 1.0000 - adhd_output_loss: 1.5910e-05 - loss: 2.9641e-05 - sex_output_accuracy: 1.0000 - sex_output_loss: 1.3717e-05 - val_adhd_output_accuracy: 0.6118 - val_adhd_output_loss: 1.0372 - val_loss: 1.7164 - val_sex_output_accuracy: 0.7412 - val_sex_output_loss: 0.7931\n",
            "Epoch 42/50\n",
            "\u001b[1m22/22\u001b[0m \u001b[32m━━━━━━━━━━━━━━━━━━━━\u001b[0m\u001b[37m\u001b[0m \u001b[1m7s\u001b[0m 299ms/step - adhd_output_accuracy: 1.0000 - adhd_output_loss: 1.6139e-05 - loss: 2.9780e-05 - sex_output_accuracy: 1.0000 - sex_output_loss: 1.3606e-05 - val_adhd_output_accuracy: 0.6118 - val_adhd_output_loss: 1.0399 - val_loss: 1.7206 - val_sex_output_accuracy: 0.7412 - val_sex_output_loss: 0.7950\n",
            "Epoch 43/50\n",
            "\u001b[1m22/22\u001b[0m \u001b[32m━━━━━━━━━━━━━━━━━━━━\u001b[0m\u001b[37m\u001b[0m \u001b[1m8s\u001b[0m 216ms/step - adhd_output_accuracy: 1.0000 - adhd_output_loss: 1.4402e-05 - loss: 2.5607e-05 - sex_output_accuracy: 1.0000 - sex_output_loss: 1.1199e-05 - val_adhd_output_accuracy: 0.6118 - val_adhd_output_loss: 1.0427 - val_loss: 1.7246 - val_sex_output_accuracy: 0.7412 - val_sex_output_loss: 0.7967\n",
            "Epoch 44/50\n",
            "\u001b[1m22/22\u001b[0m \u001b[32m━━━━━━━━━━━━━━━━━━━━\u001b[0m\u001b[37m\u001b[0m \u001b[1m7s\u001b[0m 294ms/step - adhd_output_accuracy: 1.0000 - adhd_output_loss: 1.4371e-05 - loss: 2.6197e-05 - sex_output_accuracy: 1.0000 - sex_output_loss: 1.1785e-05 - val_adhd_output_accuracy: 0.6118 - val_adhd_output_loss: 1.0454 - val_loss: 1.7286 - val_sex_output_accuracy: 0.7412 - val_sex_output_loss: 0.7985\n",
            "Epoch 45/50\n",
            "\u001b[1m22/22\u001b[0m \u001b[32m━━━━━━━━━━━━━━━━━━━━\u001b[0m\u001b[37m\u001b[0m \u001b[1m9s\u001b[0m 228ms/step - adhd_output_accuracy: 1.0000 - adhd_output_loss: 1.2329e-05 - loss: 2.2729e-05 - sex_output_accuracy: 1.0000 - sex_output_loss: 1.0397e-05 - val_adhd_output_accuracy: 0.6118 - val_adhd_output_loss: 1.0480 - val_loss: 1.7324 - val_sex_output_accuracy: 0.7412 - val_sex_output_loss: 0.8002\n",
            "Epoch 46/50\n",
            "\u001b[1m22/22\u001b[0m \u001b[32m━━━━━━━━━━━━━━━━━━━━\u001b[0m\u001b[37m\u001b[0m \u001b[1m6s\u001b[0m 278ms/step - adhd_output_accuracy: 1.0000 - adhd_output_loss: 1.2955e-05 - loss: 2.3864e-05 - sex_output_accuracy: 1.0000 - sex_output_loss: 1.0896e-05 - val_adhd_output_accuracy: 0.6118 - val_adhd_output_loss: 1.0506 - val_loss: 1.7362 - val_sex_output_accuracy: 0.7412 - val_sex_output_loss: 0.8018\n",
            "Epoch 47/50\n",
            "\u001b[1m22/22\u001b[0m \u001b[32m━━━━━━━━━━━━━━━━━━━━\u001b[0m\u001b[37m\u001b[0m \u001b[1m12s\u001b[0m 358ms/step - adhd_output_accuracy: 1.0000 - adhd_output_loss: 1.1643e-05 - loss: 2.2203e-05 - sex_output_accuracy: 1.0000 - sex_output_loss: 1.0592e-05 - val_adhd_output_accuracy: 0.6118 - val_adhd_output_loss: 1.0531 - val_loss: 1.7399 - val_sex_output_accuracy: 0.7412 - val_sex_output_loss: 0.8035\n",
            "Epoch 48/50\n",
            "\u001b[1m22/22\u001b[0m \u001b[32m━━━━━━━━━━━━━━━━━━━━\u001b[0m\u001b[37m\u001b[0m \u001b[1m7s\u001b[0m 215ms/step - adhd_output_accuracy: 1.0000 - adhd_output_loss: 1.2517e-05 - loss: 2.2869e-05 - sex_output_accuracy: 1.0000 - sex_output_loss: 1.0351e-05 - val_adhd_output_accuracy: 0.6118 - val_adhd_output_loss: 1.0555 - val_loss: 1.7436 - val_sex_output_accuracy: 0.7412 - val_sex_output_loss: 0.8051\n",
            "Epoch 49/50\n",
            "\u001b[1m22/22\u001b[0m \u001b[32m━━━━━━━━━━━━━━━━━━━━\u001b[0m\u001b[37m\u001b[0m \u001b[1m6s\u001b[0m 269ms/step - adhd_output_accuracy: 1.0000 - adhd_output_loss: 1.1528e-05 - loss: 2.1869e-05 - sex_output_accuracy: 1.0000 - sex_output_loss: 1.0342e-05 - val_adhd_output_accuracy: 0.6118 - val_adhd_output_loss: 1.0580 - val_loss: 1.7472 - val_sex_output_accuracy: 0.7412 - val_sex_output_loss: 0.8067\n",
            "Epoch 50/50\n",
            "\u001b[1m22/22\u001b[0m \u001b[32m━━━━━━━━━━━━━━━━━━━━\u001b[0m\u001b[37m\u001b[0m \u001b[1m9s\u001b[0m 219ms/step - adhd_output_accuracy: 1.0000 - adhd_output_loss: 1.1386e-05 - loss: 1.9864e-05 - sex_output_accuracy: 1.0000 - sex_output_loss: 8.4413e-06 - val_adhd_output_accuracy: 0.6118 - val_adhd_output_loss: 1.0606 - val_loss: 1.7510 - val_sex_output_accuracy: 0.7412 - val_sex_output_loss: 0.8083\n",
            "\u001b[1m12/12\u001b[0m \u001b[32m━━━━━━━━━━━━━━━━━━━━\u001b[0m\u001b[37m\u001b[0m \u001b[1m0s\u001b[0m 25ms/step - adhd_output_accuracy: 0.6324 - adhd_output_loss: 0.8484 - loss: 1.8312 - sex_output_accuracy: 0.6517 - sex_output_loss: 0.9821\n"
          ]
        },
        {
          "output_type": "error",
          "ename": "ValueError",
          "evalue": "too many values to unpack (expected 3)",
          "traceback": [
            "\u001b[0;31m---------------------------------------------------------------------------\u001b[0m",
            "\u001b[0;31mValueError\u001b[0m                                Traceback (most recent call last)",
            "\u001b[0;32m<ipython-input-38-0da34f542325>\u001b[0m in \u001b[0;36m<cell line: 0>\u001b[0;34m()\u001b[0m\n\u001b[1;32m     38\u001b[0m \u001b[0;34m\u001b[0m\u001b[0m\n\u001b[1;32m     39\u001b[0m \u001b[0;31m# Evaluate the model\u001b[0m\u001b[0;34m\u001b[0m\u001b[0;34m\u001b[0m\u001b[0m\n\u001b[0;32m---> 40\u001b[0;31m \u001b[0mtest_loss\u001b[0m\u001b[0;34m,\u001b[0m \u001b[0mtest_adhd_acc\u001b[0m\u001b[0;34m,\u001b[0m \u001b[0mtest_sex_acc\u001b[0m \u001b[0;34m=\u001b[0m \u001b[0mmodel\u001b[0m\u001b[0;34m.\u001b[0m\u001b[0mevaluate\u001b[0m\u001b[0;34m(\u001b[0m\u001b[0mX_test\u001b[0m\u001b[0;34m,\u001b[0m \u001b[0;34m[\u001b[0m\u001b[0my_test_adhd\u001b[0m\u001b[0;34m,\u001b[0m \u001b[0my_test_sex\u001b[0m\u001b[0;34m]\u001b[0m\u001b[0;34m)\u001b[0m\u001b[0;34m\u001b[0m\u001b[0;34m\u001b[0m\u001b[0m\n\u001b[0m\u001b[1;32m     41\u001b[0m \u001b[0;34m\u001b[0m\u001b[0m\n\u001b[1;32m     42\u001b[0m \u001b[0mprint\u001b[0m\u001b[0;34m(\u001b[0m\u001b[0;34mf\"Test Accuracy for ADHD: {test_adhd_acc}\"\u001b[0m\u001b[0;34m)\u001b[0m\u001b[0;34m\u001b[0m\u001b[0;34m\u001b[0m\u001b[0m\n",
            "\u001b[0;31mValueError\u001b[0m: too many values to unpack (expected 3)"
          ]
        }
      ]
    },
    {
      "cell_type": "code",
      "source": [
        "# Evaluate the model\n",
        "result = model.evaluate(X_test, [y_test_adhd, y_test_sex])\n",
        "test_loss = result[0]\n",
        "test_adhd_loss = result[1]\n",
        "test_sex_loss = result[2]\n",
        "test_adhd_acc = result[3]\n",
        "test_sex_acc = result[4]\n",
        "\n",
        "print(f\"Test Loss: {test_loss}\")\n",
        "print(f\"Test Loss for ADHD: {test_adhd_loss}\")\n",
        "print(f\"Test Loss for Sex: {test_sex_loss}\")\n",
        "print(f\"Test Accuracy for ADHD: {test_adhd_acc}\")\n",
        "print(f\"Test Accuracy for Sex: {test_sex_acc}\")"
      ],
      "metadata": {
        "colab": {
          "base_uri": "https://localhost:8080/"
        },
        "id": "ehufy8vXa3Yk",
        "outputId": "7aa6f03e-db4a-43f6-f2c1-fcb33f302e0f"
      },
      "execution_count": 125,
      "outputs": [
        {
          "output_type": "stream",
          "name": "stdout",
          "text": [
            "\u001b[1m12/12\u001b[0m \u001b[32m━━━━━━━━━━━━━━━━━━━━\u001b[0m\u001b[37m\u001b[0m \u001b[1m1s\u001b[0m 44ms/step - adhd_output_accuracy: 0.6324 - adhd_output_loss: 0.8484 - loss: 1.8312 - sex_output_accuracy: 0.6517 - sex_output_loss: 0.9821\n",
            "Test Loss: 1.7723755836486816\n",
            "Test Loss for ADHD: 0.8836379051208496\n",
            "Test Loss for Sex: 0.8840306401252747\n",
            "Test Accuracy for ADHD: 0.6483516693115234\n",
            "Test Accuracy for Sex: 0.6648351550102234\n"
          ]
        }
      ]
    },
    {
      "cell_type": "code",
      "source": [
        "from re import A\n",
        "from sklearn.metrics import recall_score, f1_score, accuracy_score, precision_recall_curve\n",
        "\n",
        "y_pred_adhd, y_pred_sex = model.predict(X_test)\n",
        "\n",
        "def best_threshold(y_true, y_pred_prob):\n",
        "    precisions, recalls, thresholds = precision_recall_curve(y_true, y_pred_prob)\n",
        "    f1_scores = 2 * (precisions * recalls) / (precisions + recalls)\n",
        "    best_thresh = thresholds[np.argmax(f1_scores)]  # Threshold with highest F1\n",
        "    return best_thresh\n",
        "\n",
        "# Find optimal thresholds\n",
        "best_thresh_adhd = best_threshold(y_test_adhd, y_pred_adhd)\n",
        "best_thresh_sex = best_threshold(y_test_sex, y_pred_sex)\n",
        "\n",
        "print(f\"Optimal Threshold for ADHD: {best_thresh_adhd:.3f}\")\n",
        "print(f\"Optimal Threshold for Sex: {best_thresh_sex:.3f}\")\n",
        "\n",
        "# Predict on the test set\n",
        "y_pred_adhd_bin = (y_pred_adhd > 0.2).astype(int)\n",
        "y_pred_sex_bin = (y_pred_sex > 0.235).astype(int)\n",
        "\n",
        "# Compute recall\n",
        "recall_adhd = recall_score(y_test_adhd, y_pred_adhd_bin)\n",
        "recall_sex = recall_score(y_test_sex, y_pred_sex_bin)\n",
        "\n",
        "# Compute accuracy\n",
        "A_adhd = accuracy_score(y_test_adhd, y_pred_adhd_bin)\n",
        "A_sex = accuracy_score(y_test_sex, y_pred_sex_bin)\n",
        "\n",
        "# Compute f1\n",
        "f1_adhd = f1_score(y_test_adhd, y_pred_adhd_bin)\n",
        "f1_sex = f1_score(y_test_sex, y_pred_sex_bin)\n",
        "\n",
        "print(f\"Recall for ADHD: {recall_adhd}\")\n",
        "print(f\"Accuracy for ADHD: {A_adhd}\")\n",
        "print(f\"F1 for ADHD: {f1_adhd}\")\n",
        "print('\\n')\n",
        "print(f\"Recall for Sex: {recall_sex}\")\n",
        "print(f\"Accuracy for Sex: {A_sex}\")\n",
        "print(f\"F1 for Sex: {f1_sex}\")\n"
      ],
      "metadata": {
        "colab": {
          "base_uri": "https://localhost:8080/"
        },
        "id": "hWkL6EO-bMwR",
        "outputId": "040d4abe-1438-40f5-b567-02c90b86d517"
      },
      "execution_count": 130,
      "outputs": [
        {
          "output_type": "stream",
          "name": "stdout",
          "text": [
            "\u001b[1m12/12\u001b[0m \u001b[32m━━━━━━━━━━━━━━━━━━━━\u001b[0m\u001b[37m\u001b[0m \u001b[1m1s\u001b[0m 40ms/step\n",
            "Optimal Threshold for ADHD: 1.000\n",
            "Optimal Threshold for Sex: 0.235\n",
            "Recall for ADHD: 0.9260700389105059\n",
            "Accuracy for ADHD: 0.6868131868131868\n",
            "F1 for ADHD: 0.8067796610169492\n",
            "\n",
            "\n",
            "Recall for Sex: 0.7258064516129032\n",
            "Accuracy for Sex: 0.6153846153846154\n",
            "F1 for Sex: 0.5625\n"
          ]
        }
      ]
    },
    {
      "cell_type": "code",
      "source": [
        "print(f\"Shape of y_train_adhd: {y_train_adhd.shape}\")\n",
        "print(f\"Shape of y_train_sex: {y_train_sex.shape}\")"
      ],
      "metadata": {
        "colab": {
          "base_uri": "https://localhost:8080/"
        },
        "id": "_hmNLsZ7ZPKH",
        "outputId": "35010bb3-f21c-49d9-e60f-03caa2185097"
      },
      "execution_count": 36,
      "outputs": [
        {
          "output_type": "stream",
          "name": "stdout",
          "text": [
            "Shape of y_train_adhd: (849,)\n",
            "Shape of y_train_sex: (849,)\n"
          ]
        }
      ]
    },
    {
      "cell_type": "code",
      "source": [
        "df_categorical_test = pd.read_excel('/content/drive/MyDrive/WiDS/TEST_CATEGORICAL.xlsx')\n",
        "df_functional_test = pd.read_csv('/content/drive/MyDrive/WiDS/TEST_FUNCTIONAL_CONNECTOME_MATRICES.csv')\n",
        "df_quantitative_test = pd.read_excel('/content/drive/MyDrive/WiDS/TEST_QUANTITATIVE_METADATA.xlsx')"
      ],
      "metadata": {
        "id": "gRwt0nClbHFG"
      },
      "execution_count": 42,
      "outputs": []
    },
    {
      "cell_type": "code",
      "source": [
        "merged_test_df = pd.merge(df_quantitative_test, df_categorical_test, on='participant_id', how='outer')\n",
        "merged_test_df = pd.merge(merged_test_df, df_functional_test, on='participant_id', how='outer')\n",
        "participant_ids_test = merged_test_df['participant_id']"
      ],
      "metadata": {
        "id": "WS_tFBDDb1Pe"
      },
      "execution_count": 72,
      "outputs": []
    },
    {
      "cell_type": "code",
      "source": [
        "X_test_set = merged_test_df[X.columns]"
      ],
      "metadata": {
        "id": "n_QOFMBce4HM"
      },
      "execution_count": 73,
      "outputs": []
    },
    {
      "cell_type": "code",
      "source": [
        "X_test_set.shape"
      ],
      "metadata": {
        "colab": {
          "base_uri": "https://localhost:8080/"
        },
        "id": "kT5E5hSIfWkH",
        "outputId": "bd3c90ff-7c2b-45c7-b852-9f4c41b44c44"
      },
      "execution_count": 74,
      "outputs": [
        {
          "output_type": "execute_result",
          "data": {
            "text/plain": [
              "(304, 19920)"
            ]
          },
          "metadata": {},
          "execution_count": 74
        }
      ]
    },
    {
      "cell_type": "code",
      "source": [
        "X_test.shape"
      ],
      "metadata": {
        "colab": {
          "base_uri": "https://localhost:8080/"
        },
        "id": "HIao5cuyfZ0V",
        "outputId": "85a64cc4-782c-40e1-ccda-5db7b51259c7"
      },
      "execution_count": 75,
      "outputs": [
        {
          "output_type": "execute_result",
          "data": {
            "text/plain": [
              "(364, 19920)"
            ]
          },
          "metadata": {},
          "execution_count": 75
        }
      ]
    },
    {
      "cell_type": "code",
      "source": [
        "# QUICK FIX OF FILL NA\n",
        "X_test_set = X_test_set.fillna(X_test_set.mean())\n",
        "\n",
        "X_test_set.fillna({'MRI_Track_Age_at_Scan': X['MRI_Track_Age_at_Scan'].median()}, inplace = True)\n",
        "X_test_set.fillna({'PreInt_Demos_Fam_Child_Ethnicity': X['PreInt_Demos_Fam_Child_Ethnicity'].mean()}, inplace = True)\n",
        "\n",
        "X_test_set.head()\n",
        "X_test_set.isna().sum()"
      ],
      "metadata": {
        "colab": {
          "base_uri": "https://localhost:8080/",
          "height": 458
        },
        "id": "0reXG2-tety3",
        "outputId": "edf54868-a48f-426e-85e6-ad38404c7779"
      },
      "execution_count": 77,
      "outputs": [
        {
          "output_type": "execute_result",
          "data": {
            "text/plain": [
              "EHQ_EHQ_Total           0\n",
              "ColorVision_CV_Score    0\n",
              "APQ_P_APQ_P_CP          0\n",
              "APQ_P_APQ_P_ID          0\n",
              "APQ_P_APQ_P_INV         0\n",
              "                       ..\n",
              "196throw_198thcolumn    0\n",
              "196throw_199thcolumn    0\n",
              "197throw_198thcolumn    0\n",
              "197throw_199thcolumn    0\n",
              "198throw_199thcolumn    0\n",
              "Length: 19920, dtype: int64"
            ],
            "text/html": [
              "<div>\n",
              "<style scoped>\n",
              "    .dataframe tbody tr th:only-of-type {\n",
              "        vertical-align: middle;\n",
              "    }\n",
              "\n",
              "    .dataframe tbody tr th {\n",
              "        vertical-align: top;\n",
              "    }\n",
              "\n",
              "    .dataframe thead th {\n",
              "        text-align: right;\n",
              "    }\n",
              "</style>\n",
              "<table border=\"1\" class=\"dataframe\">\n",
              "  <thead>\n",
              "    <tr style=\"text-align: right;\">\n",
              "      <th></th>\n",
              "      <th>0</th>\n",
              "    </tr>\n",
              "  </thead>\n",
              "  <tbody>\n",
              "    <tr>\n",
              "      <th>EHQ_EHQ_Total</th>\n",
              "      <td>0</td>\n",
              "    </tr>\n",
              "    <tr>\n",
              "      <th>ColorVision_CV_Score</th>\n",
              "      <td>0</td>\n",
              "    </tr>\n",
              "    <tr>\n",
              "      <th>APQ_P_APQ_P_CP</th>\n",
              "      <td>0</td>\n",
              "    </tr>\n",
              "    <tr>\n",
              "      <th>APQ_P_APQ_P_ID</th>\n",
              "      <td>0</td>\n",
              "    </tr>\n",
              "    <tr>\n",
              "      <th>APQ_P_APQ_P_INV</th>\n",
              "      <td>0</td>\n",
              "    </tr>\n",
              "    <tr>\n",
              "      <th>...</th>\n",
              "      <td>...</td>\n",
              "    </tr>\n",
              "    <tr>\n",
              "      <th>196throw_198thcolumn</th>\n",
              "      <td>0</td>\n",
              "    </tr>\n",
              "    <tr>\n",
              "      <th>196throw_199thcolumn</th>\n",
              "      <td>0</td>\n",
              "    </tr>\n",
              "    <tr>\n",
              "      <th>197throw_198thcolumn</th>\n",
              "      <td>0</td>\n",
              "    </tr>\n",
              "    <tr>\n",
              "      <th>197throw_199thcolumn</th>\n",
              "      <td>0</td>\n",
              "    </tr>\n",
              "    <tr>\n",
              "      <th>198throw_199thcolumn</th>\n",
              "      <td>0</td>\n",
              "    </tr>\n",
              "  </tbody>\n",
              "</table>\n",
              "<p>19920 rows × 1 columns</p>\n",
              "</div><br><label><b>dtype:</b> int64</label>"
            ]
          },
          "metadata": {},
          "execution_count": 77
        }
      ]
    },
    {
      "cell_type": "code",
      "source": [
        "X_test_set_scaled = scaler.fit_transform(X_test_set)\n",
        "adhd_test_predictions, sex_test_predictions = model.predict(X_test_set_scaled)"
      ],
      "metadata": {
        "colab": {
          "base_uri": "https://localhost:8080/"
        },
        "id": "8jre905AdIMm",
        "outputId": "c2a97532-7a0e-4528-d71f-b5d5b29b8626"
      },
      "execution_count": 139,
      "outputs": [
        {
          "output_type": "stream",
          "name": "stdout",
          "text": [
            "\u001b[1m10/10\u001b[0m \u001b[32m━━━━━━━━━━━━━━━━━━━━\u001b[0m\u001b[37m\u001b[0m \u001b[1m1s\u001b[0m 45ms/step\n"
          ]
        }
      ]
    },
    {
      "cell_type": "code",
      "source": [
        "def best_threshold(y_true, y_pred_prob):\n",
        "    precisions, recalls, thresholds = precision_recall_curve(y_true, y_pred_prob)\n",
        "    f1_scores = 2 * (precisions * recalls) / (precisions + recalls)\n",
        "    best_thresh = thresholds[np.argmax(f1_scores)]  # Threshold with highest F1\n",
        "    return best_thresh\n"
      ],
      "metadata": {
        "id": "E0LAruTljo5i"
      },
      "execution_count": null,
      "outputs": []
    },
    {
      "cell_type": "code",
      "source": [
        "adhd_test_predictions_label = (adhd_test_predictions > 0.2).astype(int)\n",
        "sex_test_predictions_label = (sex_test_predictions > 0.235).astype(int)"
      ],
      "metadata": {
        "id": "7kO-X5Osdptp"
      },
      "execution_count": 140,
      "outputs": []
    },
    {
      "cell_type": "code",
      "source": [
        "print(len(adhd_test_predictions))\n",
        "print(len(sex_test_predictions))\n",
        "print(len(participant_ids_test))"
      ],
      "metadata": {
        "colab": {
          "base_uri": "https://localhost:8080/"
        },
        "id": "Y_3uo2qvdykX",
        "outputId": "885520e3-4247-49ce-a342-78f4844e59ab"
      },
      "execution_count": 95,
      "outputs": [
        {
          "output_type": "stream",
          "name": "stdout",
          "text": [
            "304\n",
            "304\n",
            "304\n"
          ]
        }
      ]
    },
    {
      "cell_type": "code",
      "source": [
        "test_results_df = pd.DataFrame({\n",
        "    'participant_id': participant_ids_test,\n",
        "    'ADHD_Outcome': adhd_test_predictions_label.flatten(),\n",
        "    'Sex_F': sex_test_predictions_label.flatten()\n",
        "})"
      ],
      "metadata": {
        "id": "df1qOxyydcND"
      },
      "execution_count": 143,
      "outputs": []
    },
    {
      "cell_type": "code",
      "source": [
        "test_results_df.head(30)"
      ],
      "metadata": {
        "colab": {
          "base_uri": "https://localhost:8080/",
          "height": 990
        },
        "id": "htBAIefjgClb",
        "outputId": "b7a77df1-93dd-4409-b6bd-a10a28c370a8"
      },
      "execution_count": 144,
      "outputs": [
        {
          "output_type": "execute_result",
          "data": {
            "text/plain": [
              "   participant_id  ADHD_Outcome  Sex_F\n",
              "0    06HFIpqKfXy9             1      1\n",
              "1    0Dua0TUw4sNZ             1      0\n",
              "2    0ImS6uhE3Ie9             1      1\n",
              "3    0VHL9SCh2TfC             1      1\n",
              "4    0X2H4LroxZcw             1      0\n",
              "5    0idudG3MZeOR             1      0\n",
              "6    0joIpvJZmHlM             1      1\n",
              "7    0wdp92SlZ6os             1      1\n",
              "8    19mb5yGJigtw             1      0\n",
              "9    1j28gfEoCQ3o             1      0\n",
              "10   1lqQa6Bvsvgo             1      0\n",
              "11   1nuCB3iu56Ao             1      0\n",
              "12   1zYwUOsWtWUO             1      0\n",
              "13   22mg5880yUSV             1      1\n",
              "14   3CHeLp88N9PU             1      0\n",
              "15   3GuHHSzexdrD             1      1\n",
              "16   3VbkvJ22j9Fu             0      1\n",
              "17   3ex9wBx3bXzf             1      1\n",
              "18   3ymvGMbsXkDa             1      1\n",
              "19   47cpL5bSIaes             1      1\n",
              "20   4QBTjDoVpVt6             1      1\n",
              "21   4SP0VjzBYTnA             1      1\n",
              "22   4TfoOtVqQGIS             1      0\n",
              "23   5F9KuchRWc28             1      1\n",
              "24   5gde2X56TEaV             1      0\n",
              "25   5irK4m6otW7R             1      0\n",
              "26   5nPxL5XWeWqT             1      0\n",
              "27   66ATazbm1n2H             1      0\n",
              "28   6g9qhyTboWDX             1      0\n",
              "29   6mGSjnkluhCm             0      1"
            ],
            "text/html": [
              "\n",
              "  <div id=\"df-0620f8c3-15ea-4a5e-ac8d-dadd0c04b855\" class=\"colab-df-container\">\n",
              "    <div>\n",
              "<style scoped>\n",
              "    .dataframe tbody tr th:only-of-type {\n",
              "        vertical-align: middle;\n",
              "    }\n",
              "\n",
              "    .dataframe tbody tr th {\n",
              "        vertical-align: top;\n",
              "    }\n",
              "\n",
              "    .dataframe thead th {\n",
              "        text-align: right;\n",
              "    }\n",
              "</style>\n",
              "<table border=\"1\" class=\"dataframe\">\n",
              "  <thead>\n",
              "    <tr style=\"text-align: right;\">\n",
              "      <th></th>\n",
              "      <th>participant_id</th>\n",
              "      <th>ADHD_Outcome</th>\n",
              "      <th>Sex_F</th>\n",
              "    </tr>\n",
              "  </thead>\n",
              "  <tbody>\n",
              "    <tr>\n",
              "      <th>0</th>\n",
              "      <td>06HFIpqKfXy9</td>\n",
              "      <td>1</td>\n",
              "      <td>1</td>\n",
              "    </tr>\n",
              "    <tr>\n",
              "      <th>1</th>\n",
              "      <td>0Dua0TUw4sNZ</td>\n",
              "      <td>1</td>\n",
              "      <td>0</td>\n",
              "    </tr>\n",
              "    <tr>\n",
              "      <th>2</th>\n",
              "      <td>0ImS6uhE3Ie9</td>\n",
              "      <td>1</td>\n",
              "      <td>1</td>\n",
              "    </tr>\n",
              "    <tr>\n",
              "      <th>3</th>\n",
              "      <td>0VHL9SCh2TfC</td>\n",
              "      <td>1</td>\n",
              "      <td>1</td>\n",
              "    </tr>\n",
              "    <tr>\n",
              "      <th>4</th>\n",
              "      <td>0X2H4LroxZcw</td>\n",
              "      <td>1</td>\n",
              "      <td>0</td>\n",
              "    </tr>\n",
              "    <tr>\n",
              "      <th>5</th>\n",
              "      <td>0idudG3MZeOR</td>\n",
              "      <td>1</td>\n",
              "      <td>0</td>\n",
              "    </tr>\n",
              "    <tr>\n",
              "      <th>6</th>\n",
              "      <td>0joIpvJZmHlM</td>\n",
              "      <td>1</td>\n",
              "      <td>1</td>\n",
              "    </tr>\n",
              "    <tr>\n",
              "      <th>7</th>\n",
              "      <td>0wdp92SlZ6os</td>\n",
              "      <td>1</td>\n",
              "      <td>1</td>\n",
              "    </tr>\n",
              "    <tr>\n",
              "      <th>8</th>\n",
              "      <td>19mb5yGJigtw</td>\n",
              "      <td>1</td>\n",
              "      <td>0</td>\n",
              "    </tr>\n",
              "    <tr>\n",
              "      <th>9</th>\n",
              "      <td>1j28gfEoCQ3o</td>\n",
              "      <td>1</td>\n",
              "      <td>0</td>\n",
              "    </tr>\n",
              "    <tr>\n",
              "      <th>10</th>\n",
              "      <td>1lqQa6Bvsvgo</td>\n",
              "      <td>1</td>\n",
              "      <td>0</td>\n",
              "    </tr>\n",
              "    <tr>\n",
              "      <th>11</th>\n",
              "      <td>1nuCB3iu56Ao</td>\n",
              "      <td>1</td>\n",
              "      <td>0</td>\n",
              "    </tr>\n",
              "    <tr>\n",
              "      <th>12</th>\n",
              "      <td>1zYwUOsWtWUO</td>\n",
              "      <td>1</td>\n",
              "      <td>0</td>\n",
              "    </tr>\n",
              "    <tr>\n",
              "      <th>13</th>\n",
              "      <td>22mg5880yUSV</td>\n",
              "      <td>1</td>\n",
              "      <td>1</td>\n",
              "    </tr>\n",
              "    <tr>\n",
              "      <th>14</th>\n",
              "      <td>3CHeLp88N9PU</td>\n",
              "      <td>1</td>\n",
              "      <td>0</td>\n",
              "    </tr>\n",
              "    <tr>\n",
              "      <th>15</th>\n",
              "      <td>3GuHHSzexdrD</td>\n",
              "      <td>1</td>\n",
              "      <td>1</td>\n",
              "    </tr>\n",
              "    <tr>\n",
              "      <th>16</th>\n",
              "      <td>3VbkvJ22j9Fu</td>\n",
              "      <td>0</td>\n",
              "      <td>1</td>\n",
              "    </tr>\n",
              "    <tr>\n",
              "      <th>17</th>\n",
              "      <td>3ex9wBx3bXzf</td>\n",
              "      <td>1</td>\n",
              "      <td>1</td>\n",
              "    </tr>\n",
              "    <tr>\n",
              "      <th>18</th>\n",
              "      <td>3ymvGMbsXkDa</td>\n",
              "      <td>1</td>\n",
              "      <td>1</td>\n",
              "    </tr>\n",
              "    <tr>\n",
              "      <th>19</th>\n",
              "      <td>47cpL5bSIaes</td>\n",
              "      <td>1</td>\n",
              "      <td>1</td>\n",
              "    </tr>\n",
              "    <tr>\n",
              "      <th>20</th>\n",
              "      <td>4QBTjDoVpVt6</td>\n",
              "      <td>1</td>\n",
              "      <td>1</td>\n",
              "    </tr>\n",
              "    <tr>\n",
              "      <th>21</th>\n",
              "      <td>4SP0VjzBYTnA</td>\n",
              "      <td>1</td>\n",
              "      <td>1</td>\n",
              "    </tr>\n",
              "    <tr>\n",
              "      <th>22</th>\n",
              "      <td>4TfoOtVqQGIS</td>\n",
              "      <td>1</td>\n",
              "      <td>0</td>\n",
              "    </tr>\n",
              "    <tr>\n",
              "      <th>23</th>\n",
              "      <td>5F9KuchRWc28</td>\n",
              "      <td>1</td>\n",
              "      <td>1</td>\n",
              "    </tr>\n",
              "    <tr>\n",
              "      <th>24</th>\n",
              "      <td>5gde2X56TEaV</td>\n",
              "      <td>1</td>\n",
              "      <td>0</td>\n",
              "    </tr>\n",
              "    <tr>\n",
              "      <th>25</th>\n",
              "      <td>5irK4m6otW7R</td>\n",
              "      <td>1</td>\n",
              "      <td>0</td>\n",
              "    </tr>\n",
              "    <tr>\n",
              "      <th>26</th>\n",
              "      <td>5nPxL5XWeWqT</td>\n",
              "      <td>1</td>\n",
              "      <td>0</td>\n",
              "    </tr>\n",
              "    <tr>\n",
              "      <th>27</th>\n",
              "      <td>66ATazbm1n2H</td>\n",
              "      <td>1</td>\n",
              "      <td>0</td>\n",
              "    </tr>\n",
              "    <tr>\n",
              "      <th>28</th>\n",
              "      <td>6g9qhyTboWDX</td>\n",
              "      <td>1</td>\n",
              "      <td>0</td>\n",
              "    </tr>\n",
              "    <tr>\n",
              "      <th>29</th>\n",
              "      <td>6mGSjnkluhCm</td>\n",
              "      <td>0</td>\n",
              "      <td>1</td>\n",
              "    </tr>\n",
              "  </tbody>\n",
              "</table>\n",
              "</div>\n",
              "    <div class=\"colab-df-buttons\">\n",
              "\n",
              "  <div class=\"colab-df-container\">\n",
              "    <button class=\"colab-df-convert\" onclick=\"convertToInteractive('df-0620f8c3-15ea-4a5e-ac8d-dadd0c04b855')\"\n",
              "            title=\"Convert this dataframe to an interactive table.\"\n",
              "            style=\"display:none;\">\n",
              "\n",
              "  <svg xmlns=\"http://www.w3.org/2000/svg\" height=\"24px\" viewBox=\"0 -960 960 960\">\n",
              "    <path d=\"M120-120v-720h720v720H120Zm60-500h600v-160H180v160Zm220 220h160v-160H400v160Zm0 220h160v-160H400v160ZM180-400h160v-160H180v160Zm440 0h160v-160H620v160ZM180-180h160v-160H180v160Zm440 0h160v-160H620v160Z\"/>\n",
              "  </svg>\n",
              "    </button>\n",
              "\n",
              "  <style>\n",
              "    .colab-df-container {\n",
              "      display:flex;\n",
              "      gap: 12px;\n",
              "    }\n",
              "\n",
              "    .colab-df-convert {\n",
              "      background-color: #E8F0FE;\n",
              "      border: none;\n",
              "      border-radius: 50%;\n",
              "      cursor: pointer;\n",
              "      display: none;\n",
              "      fill: #1967D2;\n",
              "      height: 32px;\n",
              "      padding: 0 0 0 0;\n",
              "      width: 32px;\n",
              "    }\n",
              "\n",
              "    .colab-df-convert:hover {\n",
              "      background-color: #E2EBFA;\n",
              "      box-shadow: 0px 1px 2px rgba(60, 64, 67, 0.3), 0px 1px 3px 1px rgba(60, 64, 67, 0.15);\n",
              "      fill: #174EA6;\n",
              "    }\n",
              "\n",
              "    .colab-df-buttons div {\n",
              "      margin-bottom: 4px;\n",
              "    }\n",
              "\n",
              "    [theme=dark] .colab-df-convert {\n",
              "      background-color: #3B4455;\n",
              "      fill: #D2E3FC;\n",
              "    }\n",
              "\n",
              "    [theme=dark] .colab-df-convert:hover {\n",
              "      background-color: #434B5C;\n",
              "      box-shadow: 0px 1px 3px 1px rgba(0, 0, 0, 0.15);\n",
              "      filter: drop-shadow(0px 1px 2px rgba(0, 0, 0, 0.3));\n",
              "      fill: #FFFFFF;\n",
              "    }\n",
              "  </style>\n",
              "\n",
              "    <script>\n",
              "      const buttonEl =\n",
              "        document.querySelector('#df-0620f8c3-15ea-4a5e-ac8d-dadd0c04b855 button.colab-df-convert');\n",
              "      buttonEl.style.display =\n",
              "        google.colab.kernel.accessAllowed ? 'block' : 'none';\n",
              "\n",
              "      async function convertToInteractive(key) {\n",
              "        const element = document.querySelector('#df-0620f8c3-15ea-4a5e-ac8d-dadd0c04b855');\n",
              "        const dataTable =\n",
              "          await google.colab.kernel.invokeFunction('convertToInteractive',\n",
              "                                                    [key], {});\n",
              "        if (!dataTable) return;\n",
              "\n",
              "        const docLinkHtml = 'Like what you see? Visit the ' +\n",
              "          '<a target=\"_blank\" href=https://colab.research.google.com/notebooks/data_table.ipynb>data table notebook</a>'\n",
              "          + ' to learn more about interactive tables.';\n",
              "        element.innerHTML = '';\n",
              "        dataTable['output_type'] = 'display_data';\n",
              "        await google.colab.output.renderOutput(dataTable, element);\n",
              "        const docLink = document.createElement('div');\n",
              "        docLink.innerHTML = docLinkHtml;\n",
              "        element.appendChild(docLink);\n",
              "      }\n",
              "    </script>\n",
              "  </div>\n",
              "\n",
              "\n",
              "<div id=\"df-d4b3f1f2-b301-4a2e-9b3d-38d55730da8c\">\n",
              "  <button class=\"colab-df-quickchart\" onclick=\"quickchart('df-d4b3f1f2-b301-4a2e-9b3d-38d55730da8c')\"\n",
              "            title=\"Suggest charts\"\n",
              "            style=\"display:none;\">\n",
              "\n",
              "<svg xmlns=\"http://www.w3.org/2000/svg\" height=\"24px\"viewBox=\"0 0 24 24\"\n",
              "     width=\"24px\">\n",
              "    <g>\n",
              "        <path d=\"M19 3H5c-1.1 0-2 .9-2 2v14c0 1.1.9 2 2 2h14c1.1 0 2-.9 2-2V5c0-1.1-.9-2-2-2zM9 17H7v-7h2v7zm4 0h-2V7h2v10zm4 0h-2v-4h2v4z\"/>\n",
              "    </g>\n",
              "</svg>\n",
              "  </button>\n",
              "\n",
              "<style>\n",
              "  .colab-df-quickchart {\n",
              "      --bg-color: #E8F0FE;\n",
              "      --fill-color: #1967D2;\n",
              "      --hover-bg-color: #E2EBFA;\n",
              "      --hover-fill-color: #174EA6;\n",
              "      --disabled-fill-color: #AAA;\n",
              "      --disabled-bg-color: #DDD;\n",
              "  }\n",
              "\n",
              "  [theme=dark] .colab-df-quickchart {\n",
              "      --bg-color: #3B4455;\n",
              "      --fill-color: #D2E3FC;\n",
              "      --hover-bg-color: #434B5C;\n",
              "      --hover-fill-color: #FFFFFF;\n",
              "      --disabled-bg-color: #3B4455;\n",
              "      --disabled-fill-color: #666;\n",
              "  }\n",
              "\n",
              "  .colab-df-quickchart {\n",
              "    background-color: var(--bg-color);\n",
              "    border: none;\n",
              "    border-radius: 50%;\n",
              "    cursor: pointer;\n",
              "    display: none;\n",
              "    fill: var(--fill-color);\n",
              "    height: 32px;\n",
              "    padding: 0;\n",
              "    width: 32px;\n",
              "  }\n",
              "\n",
              "  .colab-df-quickchart:hover {\n",
              "    background-color: var(--hover-bg-color);\n",
              "    box-shadow: 0 1px 2px rgba(60, 64, 67, 0.3), 0 1px 3px 1px rgba(60, 64, 67, 0.15);\n",
              "    fill: var(--button-hover-fill-color);\n",
              "  }\n",
              "\n",
              "  .colab-df-quickchart-complete:disabled,\n",
              "  .colab-df-quickchart-complete:disabled:hover {\n",
              "    background-color: var(--disabled-bg-color);\n",
              "    fill: var(--disabled-fill-color);\n",
              "    box-shadow: none;\n",
              "  }\n",
              "\n",
              "  .colab-df-spinner {\n",
              "    border: 2px solid var(--fill-color);\n",
              "    border-color: transparent;\n",
              "    border-bottom-color: var(--fill-color);\n",
              "    animation:\n",
              "      spin 1s steps(1) infinite;\n",
              "  }\n",
              "\n",
              "  @keyframes spin {\n",
              "    0% {\n",
              "      border-color: transparent;\n",
              "      border-bottom-color: var(--fill-color);\n",
              "      border-left-color: var(--fill-color);\n",
              "    }\n",
              "    20% {\n",
              "      border-color: transparent;\n",
              "      border-left-color: var(--fill-color);\n",
              "      border-top-color: var(--fill-color);\n",
              "    }\n",
              "    30% {\n",
              "      border-color: transparent;\n",
              "      border-left-color: var(--fill-color);\n",
              "      border-top-color: var(--fill-color);\n",
              "      border-right-color: var(--fill-color);\n",
              "    }\n",
              "    40% {\n",
              "      border-color: transparent;\n",
              "      border-right-color: var(--fill-color);\n",
              "      border-top-color: var(--fill-color);\n",
              "    }\n",
              "    60% {\n",
              "      border-color: transparent;\n",
              "      border-right-color: var(--fill-color);\n",
              "    }\n",
              "    80% {\n",
              "      border-color: transparent;\n",
              "      border-right-color: var(--fill-color);\n",
              "      border-bottom-color: var(--fill-color);\n",
              "    }\n",
              "    90% {\n",
              "      border-color: transparent;\n",
              "      border-bottom-color: var(--fill-color);\n",
              "    }\n",
              "  }\n",
              "</style>\n",
              "\n",
              "  <script>\n",
              "    async function quickchart(key) {\n",
              "      const quickchartButtonEl =\n",
              "        document.querySelector('#' + key + ' button');\n",
              "      quickchartButtonEl.disabled = true;  // To prevent multiple clicks.\n",
              "      quickchartButtonEl.classList.add('colab-df-spinner');\n",
              "      try {\n",
              "        const charts = await google.colab.kernel.invokeFunction(\n",
              "            'suggestCharts', [key], {});\n",
              "      } catch (error) {\n",
              "        console.error('Error during call to suggestCharts:', error);\n",
              "      }\n",
              "      quickchartButtonEl.classList.remove('colab-df-spinner');\n",
              "      quickchartButtonEl.classList.add('colab-df-quickchart-complete');\n",
              "    }\n",
              "    (() => {\n",
              "      let quickchartButtonEl =\n",
              "        document.querySelector('#df-d4b3f1f2-b301-4a2e-9b3d-38d55730da8c button');\n",
              "      quickchartButtonEl.style.display =\n",
              "        google.colab.kernel.accessAllowed ? 'block' : 'none';\n",
              "    })();\n",
              "  </script>\n",
              "</div>\n",
              "\n",
              "    </div>\n",
              "  </div>\n"
            ],
            "application/vnd.google.colaboratory.intrinsic+json": {
              "type": "dataframe",
              "variable_name": "test_results_df",
              "summary": "{\n  \"name\": \"test_results_df\",\n  \"rows\": 304,\n  \"fields\": [\n    {\n      \"column\": \"participant_id\",\n      \"properties\": {\n        \"dtype\": \"string\",\n        \"num_unique_values\": 304,\n        \"samples\": [\n          \"cRySmCadYFRO\",\n          \"WDaVjmgqDtdH\",\n          \"Ljvrs76QJuI5\"\n        ],\n        \"semantic_type\": \"\",\n        \"description\": \"\"\n      }\n    },\n    {\n      \"column\": \"ADHD_Outcome\",\n      \"properties\": {\n        \"dtype\": \"number\",\n        \"std\": 0,\n        \"min\": 0,\n        \"max\": 1,\n        \"num_unique_values\": 2,\n        \"samples\": [\n          0,\n          1\n        ],\n        \"semantic_type\": \"\",\n        \"description\": \"\"\n      }\n    },\n    {\n      \"column\": \"Sex_F\",\n      \"properties\": {\n        \"dtype\": \"number\",\n        \"std\": 0,\n        \"min\": 0,\n        \"max\": 1,\n        \"num_unique_values\": 2,\n        \"samples\": [\n          0,\n          1\n        ],\n        \"semantic_type\": \"\",\n        \"description\": \"\"\n      }\n    }\n  ]\n}"
            }
          },
          "metadata": {},
          "execution_count": 144
        }
      ]
    },
    {
      "cell_type": "code",
      "source": [
        "test_results_df.to_csv('/content/drive/MyDrive/WiDS/neuralNetwork1.csv', index=False)"
      ],
      "metadata": {
        "id": "MXruOHzokTrq"
      },
      "execution_count": 145,
      "outputs": []
    }
  ]
}